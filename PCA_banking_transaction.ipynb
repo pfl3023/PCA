{
 "cells": [
  {
   "cell_type": "code",
   "execution_count": 1,
   "id": "d863da02-5f18-4057-aacd-2c26bc070ebd",
   "metadata": {},
   "outputs": [],
   "source": [
    "import numpy as np\n",
    "import pandas as pd\n",
    "import matplotlib.pyplot as plt\n",
    "import seaborn as sns\n",
    "from collections import Counter"
   ]
  },
  {
   "cell_type": "code",
   "execution_count": 2,
   "id": "2e8ab54e-e100-4064-8dcb-e812b3ee4a9a",
   "metadata": {},
   "outputs": [
    {
     "data": {
      "text/html": [
       "<div>\n",
       "<style scoped>\n",
       "    .dataframe tbody tr th:only-of-type {\n",
       "        vertical-align: middle;\n",
       "    }\n",
       "\n",
       "    .dataframe tbody tr th {\n",
       "        vertical-align: top;\n",
       "    }\n",
       "\n",
       "    .dataframe thead th {\n",
       "        text-align: right;\n",
       "    }\n",
       "</style>\n",
       "<table border=\"1\" class=\"dataframe\">\n",
       "  <thead>\n",
       "    <tr style=\"text-align: right;\">\n",
       "      <th></th>\n",
       "      <th>ID</th>\n",
       "      <th>target</th>\n",
       "      <th>48df886f9</th>\n",
       "      <th>0deb4b6a8</th>\n",
       "      <th>34b15f335</th>\n",
       "      <th>a8cb14b00</th>\n",
       "      <th>2f0771a37</th>\n",
       "      <th>30347e683</th>\n",
       "      <th>d08d1fbe3</th>\n",
       "      <th>6ee66e115</th>\n",
       "      <th>...</th>\n",
       "      <th>3ecc09859</th>\n",
       "      <th>9281abeea</th>\n",
       "      <th>8675bec0b</th>\n",
       "      <th>3a13ed79a</th>\n",
       "      <th>f677d4d13</th>\n",
       "      <th>71b203550</th>\n",
       "      <th>137efaa80</th>\n",
       "      <th>fb36b89d9</th>\n",
       "      <th>7e293fbaf</th>\n",
       "      <th>9fc776466</th>\n",
       "    </tr>\n",
       "  </thead>\n",
       "  <tbody>\n",
       "    <tr>\n",
       "      <th>0</th>\n",
       "      <td>000d6aaf2</td>\n",
       "      <td>38000000.0</td>\n",
       "      <td>0.0</td>\n",
       "      <td>0</td>\n",
       "      <td>0.0</td>\n",
       "      <td>0</td>\n",
       "      <td>0</td>\n",
       "      <td>0</td>\n",
       "      <td>0</td>\n",
       "      <td>0</td>\n",
       "      <td>...</td>\n",
       "      <td>0.0</td>\n",
       "      <td>0.0</td>\n",
       "      <td>0.0</td>\n",
       "      <td>0</td>\n",
       "      <td>0</td>\n",
       "      <td>0</td>\n",
       "      <td>0</td>\n",
       "      <td>0</td>\n",
       "      <td>0</td>\n",
       "      <td>0</td>\n",
       "    </tr>\n",
       "    <tr>\n",
       "      <th>1</th>\n",
       "      <td>000fbd867</td>\n",
       "      <td>600000.0</td>\n",
       "      <td>0.0</td>\n",
       "      <td>0</td>\n",
       "      <td>0.0</td>\n",
       "      <td>0</td>\n",
       "      <td>0</td>\n",
       "      <td>0</td>\n",
       "      <td>0</td>\n",
       "      <td>0</td>\n",
       "      <td>...</td>\n",
       "      <td>0.0</td>\n",
       "      <td>0.0</td>\n",
       "      <td>0.0</td>\n",
       "      <td>0</td>\n",
       "      <td>0</td>\n",
       "      <td>0</td>\n",
       "      <td>0</td>\n",
       "      <td>0</td>\n",
       "      <td>0</td>\n",
       "      <td>0</td>\n",
       "    </tr>\n",
       "    <tr>\n",
       "      <th>2</th>\n",
       "      <td>0027d6b71</td>\n",
       "      <td>10000000.0</td>\n",
       "      <td>0.0</td>\n",
       "      <td>0</td>\n",
       "      <td>0.0</td>\n",
       "      <td>0</td>\n",
       "      <td>0</td>\n",
       "      <td>0</td>\n",
       "      <td>0</td>\n",
       "      <td>0</td>\n",
       "      <td>...</td>\n",
       "      <td>0.0</td>\n",
       "      <td>0.0</td>\n",
       "      <td>0.0</td>\n",
       "      <td>0</td>\n",
       "      <td>0</td>\n",
       "      <td>0</td>\n",
       "      <td>0</td>\n",
       "      <td>0</td>\n",
       "      <td>0</td>\n",
       "      <td>0</td>\n",
       "    </tr>\n",
       "    <tr>\n",
       "      <th>3</th>\n",
       "      <td>0028cbf45</td>\n",
       "      <td>2000000.0</td>\n",
       "      <td>0.0</td>\n",
       "      <td>0</td>\n",
       "      <td>0.0</td>\n",
       "      <td>0</td>\n",
       "      <td>0</td>\n",
       "      <td>0</td>\n",
       "      <td>0</td>\n",
       "      <td>0</td>\n",
       "      <td>...</td>\n",
       "      <td>0.0</td>\n",
       "      <td>0.0</td>\n",
       "      <td>0.0</td>\n",
       "      <td>0</td>\n",
       "      <td>0</td>\n",
       "      <td>0</td>\n",
       "      <td>0</td>\n",
       "      <td>0</td>\n",
       "      <td>0</td>\n",
       "      <td>0</td>\n",
       "    </tr>\n",
       "    <tr>\n",
       "      <th>4</th>\n",
       "      <td>002a68644</td>\n",
       "      <td>14400000.0</td>\n",
       "      <td>0.0</td>\n",
       "      <td>0</td>\n",
       "      <td>0.0</td>\n",
       "      <td>0</td>\n",
       "      <td>0</td>\n",
       "      <td>0</td>\n",
       "      <td>0</td>\n",
       "      <td>0</td>\n",
       "      <td>...</td>\n",
       "      <td>0.0</td>\n",
       "      <td>0.0</td>\n",
       "      <td>0.0</td>\n",
       "      <td>0</td>\n",
       "      <td>0</td>\n",
       "      <td>0</td>\n",
       "      <td>0</td>\n",
       "      <td>0</td>\n",
       "      <td>0</td>\n",
       "      <td>0</td>\n",
       "    </tr>\n",
       "  </tbody>\n",
       "</table>\n",
       "<p>5 rows × 4993 columns</p>\n",
       "</div>"
      ],
      "text/plain": [
       "          ID      target  48df886f9  0deb4b6a8  34b15f335  a8cb14b00  \\\n",
       "0  000d6aaf2  38000000.0        0.0          0        0.0          0   \n",
       "1  000fbd867    600000.0        0.0          0        0.0          0   \n",
       "2  0027d6b71  10000000.0        0.0          0        0.0          0   \n",
       "3  0028cbf45   2000000.0        0.0          0        0.0          0   \n",
       "4  002a68644  14400000.0        0.0          0        0.0          0   \n",
       "\n",
       "   2f0771a37  30347e683  d08d1fbe3  6ee66e115  ...  3ecc09859  9281abeea  \\\n",
       "0          0          0          0          0  ...        0.0        0.0   \n",
       "1          0          0          0          0  ...        0.0        0.0   \n",
       "2          0          0          0          0  ...        0.0        0.0   \n",
       "3          0          0          0          0  ...        0.0        0.0   \n",
       "4          0          0          0          0  ...        0.0        0.0   \n",
       "\n",
       "   8675bec0b  3a13ed79a  f677d4d13  71b203550  137efaa80  fb36b89d9  \\\n",
       "0        0.0          0          0          0          0          0   \n",
       "1        0.0          0          0          0          0          0   \n",
       "2        0.0          0          0          0          0          0   \n",
       "3        0.0          0          0          0          0          0   \n",
       "4        0.0          0          0          0          0          0   \n",
       "\n",
       "   7e293fbaf  9fc776466  \n",
       "0          0          0  \n",
       "1          0          0  \n",
       "2          0          0  \n",
       "3          0          0  \n",
       "4          0          0  \n",
       "\n",
       "[5 rows x 4993 columns]"
      ]
     },
     "execution_count": 2,
     "metadata": {},
     "output_type": "execute_result"
    }
   ],
   "source": [
    "value=pd.read_csv(\"https://raw.githubusercontent.com/insaid2018/pca-file/master/train.csv\")\n",
    "value.head()\n",
    "#dataset having target variable as the amount of money transacted and about 4900 features "
   ]
  },
  {
   "cell_type": "code",
   "execution_count": 3,
   "id": "d0260aa5-5ad3-475c-8551-a923b1443f39",
   "metadata": {},
   "outputs": [
    {
     "data": {
      "text/plain": [
       "(4459, 4993)"
      ]
     },
     "execution_count": 3,
     "metadata": {},
     "output_type": "execute_result"
    }
   ],
   "source": [
    "value.shape"
   ]
  },
  {
   "cell_type": "code",
   "execution_count": 4,
   "id": "ae549fa2-93f3-4f21-8e7d-225e0c074ab9",
   "metadata": {},
   "outputs": [
    {
     "data": {
      "text/plain": [
       "Index(['ID', 'target', '48df886f9', '0deb4b6a8', '34b15f335', 'a8cb14b00',\n",
       "       '2f0771a37', '30347e683', 'd08d1fbe3', '6ee66e115',\n",
       "       ...\n",
       "       '3ecc09859', '9281abeea', '8675bec0b', '3a13ed79a', 'f677d4d13',\n",
       "       '71b203550', '137efaa80', 'fb36b89d9', '7e293fbaf', '9fc776466'],\n",
       "      dtype='object', length=4993)"
      ]
     },
     "execution_count": 4,
     "metadata": {},
     "output_type": "execute_result"
    }
   ],
   "source": [
    "value.columns"
   ]
  },
  {
   "cell_type": "code",
   "execution_count": 5,
   "id": "732a48ba-6dce-409c-8336-72bd237906fd",
   "metadata": {},
   "outputs": [
    {
     "data": {
      "text/html": [
       "<div>\n",
       "<style scoped>\n",
       "    .dataframe tbody tr th:only-of-type {\n",
       "        vertical-align: middle;\n",
       "    }\n",
       "\n",
       "    .dataframe tbody tr th {\n",
       "        vertical-align: top;\n",
       "    }\n",
       "\n",
       "    .dataframe thead th {\n",
       "        text-align: right;\n",
       "    }\n",
       "</style>\n",
       "<table border=\"1\" class=\"dataframe\">\n",
       "  <thead>\n",
       "    <tr style=\"text-align: right;\">\n",
       "      <th></th>\n",
       "      <th>target</th>\n",
       "      <th>48df886f9</th>\n",
       "      <th>0deb4b6a8</th>\n",
       "      <th>34b15f335</th>\n",
       "      <th>a8cb14b00</th>\n",
       "      <th>2f0771a37</th>\n",
       "      <th>30347e683</th>\n",
       "      <th>d08d1fbe3</th>\n",
       "      <th>6ee66e115</th>\n",
       "      <th>20aa07010</th>\n",
       "      <th>...</th>\n",
       "      <th>3ecc09859</th>\n",
       "      <th>9281abeea</th>\n",
       "      <th>8675bec0b</th>\n",
       "      <th>3a13ed79a</th>\n",
       "      <th>f677d4d13</th>\n",
       "      <th>71b203550</th>\n",
       "      <th>137efaa80</th>\n",
       "      <th>fb36b89d9</th>\n",
       "      <th>7e293fbaf</th>\n",
       "      <th>9fc776466</th>\n",
       "    </tr>\n",
       "  </thead>\n",
       "  <tbody>\n",
       "    <tr>\n",
       "      <th>count</th>\n",
       "      <td>4.459000e+03</td>\n",
       "      <td>4.459000e+03</td>\n",
       "      <td>4.459000e+03</td>\n",
       "      <td>4.459000e+03</td>\n",
       "      <td>4.459000e+03</td>\n",
       "      <td>4.459000e+03</td>\n",
       "      <td>4.459000e+03</td>\n",
       "      <td>4.459000e+03</td>\n",
       "      <td>4.459000e+03</td>\n",
       "      <td>4.459000e+03</td>\n",
       "      <td>...</td>\n",
       "      <td>4.459000e+03</td>\n",
       "      <td>4.459000e+03</td>\n",
       "      <td>4.459000e+03</td>\n",
       "      <td>4.459000e+03</td>\n",
       "      <td>4459.000000</td>\n",
       "      <td>4.459000e+03</td>\n",
       "      <td>4.459000e+03</td>\n",
       "      <td>4.459000e+03</td>\n",
       "      <td>4.459000e+03</td>\n",
       "      <td>4.459000e+03</td>\n",
       "    </tr>\n",
       "    <tr>\n",
       "      <th>mean</th>\n",
       "      <td>5.944923e+06</td>\n",
       "      <td>1.465493e+04</td>\n",
       "      <td>1.390895e+03</td>\n",
       "      <td>2.672245e+04</td>\n",
       "      <td>4.530164e+03</td>\n",
       "      <td>2.640996e+04</td>\n",
       "      <td>3.070811e+04</td>\n",
       "      <td>1.686522e+04</td>\n",
       "      <td>4.669208e+03</td>\n",
       "      <td>2.569407e+06</td>\n",
       "      <td>...</td>\n",
       "      <td>4.676057e+05</td>\n",
       "      <td>4.446239e+05</td>\n",
       "      <td>8.056219e+05</td>\n",
       "      <td>7.812966e+05</td>\n",
       "      <td>143.529939</td>\n",
       "      <td>1.213809e+05</td>\n",
       "      <td>3.573451e+04</td>\n",
       "      <td>3.123741e+05</td>\n",
       "      <td>9.219960e+04</td>\n",
       "      <td>2.279100e+05</td>\n",
       "    </tr>\n",
       "    <tr>\n",
       "      <th>std</th>\n",
       "      <td>8.234312e+06</td>\n",
       "      <td>3.893298e+05</td>\n",
       "      <td>6.428302e+04</td>\n",
       "      <td>5.699652e+05</td>\n",
       "      <td>2.359124e+05</td>\n",
       "      <td>1.514730e+06</td>\n",
       "      <td>5.770590e+05</td>\n",
       "      <td>7.512756e+05</td>\n",
       "      <td>1.879449e+05</td>\n",
       "      <td>9.610183e+06</td>\n",
       "      <td>...</td>\n",
       "      <td>4.068038e+06</td>\n",
       "      <td>4.428889e+06</td>\n",
       "      <td>4.513246e+06</td>\n",
       "      <td>6.839451e+06</td>\n",
       "      <td>9584.318507</td>\n",
       "      <td>4.720709e+06</td>\n",
       "      <td>1.614622e+06</td>\n",
       "      <td>4.318501e+06</td>\n",
       "      <td>1.635993e+06</td>\n",
       "      <td>1.811139e+06</td>\n",
       "    </tr>\n",
       "    <tr>\n",
       "      <th>min</th>\n",
       "      <td>3.000000e+04</td>\n",
       "      <td>0.000000e+00</td>\n",
       "      <td>0.000000e+00</td>\n",
       "      <td>0.000000e+00</td>\n",
       "      <td>0.000000e+00</td>\n",
       "      <td>0.000000e+00</td>\n",
       "      <td>0.000000e+00</td>\n",
       "      <td>0.000000e+00</td>\n",
       "      <td>0.000000e+00</td>\n",
       "      <td>0.000000e+00</td>\n",
       "      <td>...</td>\n",
       "      <td>0.000000e+00</td>\n",
       "      <td>0.000000e+00</td>\n",
       "      <td>0.000000e+00</td>\n",
       "      <td>0.000000e+00</td>\n",
       "      <td>0.000000</td>\n",
       "      <td>0.000000e+00</td>\n",
       "      <td>0.000000e+00</td>\n",
       "      <td>0.000000e+00</td>\n",
       "      <td>0.000000e+00</td>\n",
       "      <td>0.000000e+00</td>\n",
       "    </tr>\n",
       "    <tr>\n",
       "      <th>25%</th>\n",
       "      <td>6.000000e+05</td>\n",
       "      <td>0.000000e+00</td>\n",
       "      <td>0.000000e+00</td>\n",
       "      <td>0.000000e+00</td>\n",
       "      <td>0.000000e+00</td>\n",
       "      <td>0.000000e+00</td>\n",
       "      <td>0.000000e+00</td>\n",
       "      <td>0.000000e+00</td>\n",
       "      <td>0.000000e+00</td>\n",
       "      <td>0.000000e+00</td>\n",
       "      <td>...</td>\n",
       "      <td>0.000000e+00</td>\n",
       "      <td>0.000000e+00</td>\n",
       "      <td>0.000000e+00</td>\n",
       "      <td>0.000000e+00</td>\n",
       "      <td>0.000000</td>\n",
       "      <td>0.000000e+00</td>\n",
       "      <td>0.000000e+00</td>\n",
       "      <td>0.000000e+00</td>\n",
       "      <td>0.000000e+00</td>\n",
       "      <td>0.000000e+00</td>\n",
       "    </tr>\n",
       "    <tr>\n",
       "      <th>50%</th>\n",
       "      <td>2.260000e+06</td>\n",
       "      <td>0.000000e+00</td>\n",
       "      <td>0.000000e+00</td>\n",
       "      <td>0.000000e+00</td>\n",
       "      <td>0.000000e+00</td>\n",
       "      <td>0.000000e+00</td>\n",
       "      <td>0.000000e+00</td>\n",
       "      <td>0.000000e+00</td>\n",
       "      <td>0.000000e+00</td>\n",
       "      <td>0.000000e+00</td>\n",
       "      <td>...</td>\n",
       "      <td>0.000000e+00</td>\n",
       "      <td>0.000000e+00</td>\n",
       "      <td>0.000000e+00</td>\n",
       "      <td>0.000000e+00</td>\n",
       "      <td>0.000000</td>\n",
       "      <td>0.000000e+00</td>\n",
       "      <td>0.000000e+00</td>\n",
       "      <td>0.000000e+00</td>\n",
       "      <td>0.000000e+00</td>\n",
       "      <td>0.000000e+00</td>\n",
       "    </tr>\n",
       "    <tr>\n",
       "      <th>75%</th>\n",
       "      <td>8.000000e+06</td>\n",
       "      <td>0.000000e+00</td>\n",
       "      <td>0.000000e+00</td>\n",
       "      <td>0.000000e+00</td>\n",
       "      <td>0.000000e+00</td>\n",
       "      <td>0.000000e+00</td>\n",
       "      <td>0.000000e+00</td>\n",
       "      <td>0.000000e+00</td>\n",
       "      <td>0.000000e+00</td>\n",
       "      <td>6.000000e+05</td>\n",
       "      <td>...</td>\n",
       "      <td>0.000000e+00</td>\n",
       "      <td>0.000000e+00</td>\n",
       "      <td>0.000000e+00</td>\n",
       "      <td>0.000000e+00</td>\n",
       "      <td>0.000000</td>\n",
       "      <td>0.000000e+00</td>\n",
       "      <td>0.000000e+00</td>\n",
       "      <td>0.000000e+00</td>\n",
       "      <td>0.000000e+00</td>\n",
       "      <td>0.000000e+00</td>\n",
       "    </tr>\n",
       "    <tr>\n",
       "      <th>max</th>\n",
       "      <td>4.000000e+07</td>\n",
       "      <td>2.000000e+07</td>\n",
       "      <td>4.000000e+06</td>\n",
       "      <td>2.000000e+07</td>\n",
       "      <td>1.480000e+07</td>\n",
       "      <td>1.000000e+08</td>\n",
       "      <td>2.070800e+07</td>\n",
       "      <td>4.000000e+07</td>\n",
       "      <td>1.040000e+07</td>\n",
       "      <td>3.196120e+08</td>\n",
       "      <td>...</td>\n",
       "      <td>7.600000e+07</td>\n",
       "      <td>1.235880e+08</td>\n",
       "      <td>1.300000e+08</td>\n",
       "      <td>1.444000e+08</td>\n",
       "      <td>640000.000000</td>\n",
       "      <td>3.013120e+08</td>\n",
       "      <td>1.064200e+08</td>\n",
       "      <td>1.400000e+08</td>\n",
       "      <td>6.176800e+07</td>\n",
       "      <td>4.320000e+07</td>\n",
       "    </tr>\n",
       "  </tbody>\n",
       "</table>\n",
       "<p>8 rows × 4992 columns</p>\n",
       "</div>"
      ],
      "text/plain": [
       "             target     48df886f9     0deb4b6a8     34b15f335     a8cb14b00  \\\n",
       "count  4.459000e+03  4.459000e+03  4.459000e+03  4.459000e+03  4.459000e+03   \n",
       "mean   5.944923e+06  1.465493e+04  1.390895e+03  2.672245e+04  4.530164e+03   \n",
       "std    8.234312e+06  3.893298e+05  6.428302e+04  5.699652e+05  2.359124e+05   \n",
       "min    3.000000e+04  0.000000e+00  0.000000e+00  0.000000e+00  0.000000e+00   \n",
       "25%    6.000000e+05  0.000000e+00  0.000000e+00  0.000000e+00  0.000000e+00   \n",
       "50%    2.260000e+06  0.000000e+00  0.000000e+00  0.000000e+00  0.000000e+00   \n",
       "75%    8.000000e+06  0.000000e+00  0.000000e+00  0.000000e+00  0.000000e+00   \n",
       "max    4.000000e+07  2.000000e+07  4.000000e+06  2.000000e+07  1.480000e+07   \n",
       "\n",
       "          2f0771a37     30347e683     d08d1fbe3     6ee66e115     20aa07010  \\\n",
       "count  4.459000e+03  4.459000e+03  4.459000e+03  4.459000e+03  4.459000e+03   \n",
       "mean   2.640996e+04  3.070811e+04  1.686522e+04  4.669208e+03  2.569407e+06   \n",
       "std    1.514730e+06  5.770590e+05  7.512756e+05  1.879449e+05  9.610183e+06   \n",
       "min    0.000000e+00  0.000000e+00  0.000000e+00  0.000000e+00  0.000000e+00   \n",
       "25%    0.000000e+00  0.000000e+00  0.000000e+00  0.000000e+00  0.000000e+00   \n",
       "50%    0.000000e+00  0.000000e+00  0.000000e+00  0.000000e+00  0.000000e+00   \n",
       "75%    0.000000e+00  0.000000e+00  0.000000e+00  0.000000e+00  6.000000e+05   \n",
       "max    1.000000e+08  2.070800e+07  4.000000e+07  1.040000e+07  3.196120e+08   \n",
       "\n",
       "       ...     3ecc09859     9281abeea     8675bec0b     3a13ed79a  \\\n",
       "count  ...  4.459000e+03  4.459000e+03  4.459000e+03  4.459000e+03   \n",
       "mean   ...  4.676057e+05  4.446239e+05  8.056219e+05  7.812966e+05   \n",
       "std    ...  4.068038e+06  4.428889e+06  4.513246e+06  6.839451e+06   \n",
       "min    ...  0.000000e+00  0.000000e+00  0.000000e+00  0.000000e+00   \n",
       "25%    ...  0.000000e+00  0.000000e+00  0.000000e+00  0.000000e+00   \n",
       "50%    ...  0.000000e+00  0.000000e+00  0.000000e+00  0.000000e+00   \n",
       "75%    ...  0.000000e+00  0.000000e+00  0.000000e+00  0.000000e+00   \n",
       "max    ...  7.600000e+07  1.235880e+08  1.300000e+08  1.444000e+08   \n",
       "\n",
       "           f677d4d13     71b203550     137efaa80     fb36b89d9     7e293fbaf  \\\n",
       "count    4459.000000  4.459000e+03  4.459000e+03  4.459000e+03  4.459000e+03   \n",
       "mean      143.529939  1.213809e+05  3.573451e+04  3.123741e+05  9.219960e+04   \n",
       "std      9584.318507  4.720709e+06  1.614622e+06  4.318501e+06  1.635993e+06   \n",
       "min         0.000000  0.000000e+00  0.000000e+00  0.000000e+00  0.000000e+00   \n",
       "25%         0.000000  0.000000e+00  0.000000e+00  0.000000e+00  0.000000e+00   \n",
       "50%         0.000000  0.000000e+00  0.000000e+00  0.000000e+00  0.000000e+00   \n",
       "75%         0.000000  0.000000e+00  0.000000e+00  0.000000e+00  0.000000e+00   \n",
       "max    640000.000000  3.013120e+08  1.064200e+08  1.400000e+08  6.176800e+07   \n",
       "\n",
       "          9fc776466  \n",
       "count  4.459000e+03  \n",
       "mean   2.279100e+05  \n",
       "std    1.811139e+06  \n",
       "min    0.000000e+00  \n",
       "25%    0.000000e+00  \n",
       "50%    0.000000e+00  \n",
       "75%    0.000000e+00  \n",
       "max    4.320000e+07  \n",
       "\n",
       "[8 rows x 4992 columns]"
      ]
     },
     "execution_count": 5,
     "metadata": {},
     "output_type": "execute_result"
    }
   ],
   "source": [
    "value.describe()"
   ]
  },
  {
   "cell_type": "code",
   "execution_count": 6,
   "id": "c74f0725-b3f0-4993-8994-5db64df99e1c",
   "metadata": {},
   "outputs": [
    {
     "name": "stdout",
     "output_type": "stream",
     "text": [
      "<class 'pandas.core.frame.DataFrame'>\n",
      "RangeIndex: 4459 entries, 0 to 4458\n",
      "Columns: 4993 entries, ID to 9fc776466\n",
      "dtypes: float64(1845), int64(3147), object(1)\n",
      "memory usage: 169.9+ MB\n"
     ]
    }
   ],
   "source": [
    "value.info()"
   ]
  },
  {
   "cell_type": "code",
   "execution_count": 7,
   "id": "b0548981-8ed2-4101-83e6-51653093b22b",
   "metadata": {},
   "outputs": [
    {
     "data": {
      "text/plain": [
       "ID    object\n",
       "dtype: object"
      ]
     },
     "execution_count": 7,
     "metadata": {},
     "output_type": "execute_result"
    }
   ],
   "source": [
    "value.select_dtypes(include=['object']).dtypes #checking which feature is object data type"
   ]
  },
  {
   "cell_type": "code",
   "execution_count": 8,
   "id": "95dff841-ea59-4ec7-b1c4-e4e7d2c6a3ba",
   "metadata": {},
   "outputs": [
    {
     "data": {
      "text/plain": [
       "False"
      ]
     },
     "execution_count": 8,
     "metadata": {},
     "output_type": "execute_result"
    }
   ],
   "source": [
    "value.isnull().sum().any()"
   ]
  },
  {
   "cell_type": "code",
   "execution_count": 9,
   "id": "718d4fd2-0f99-446d-bd3c-03c171d92efa",
   "metadata": {},
   "outputs": [],
   "source": [
    "value=value.drop('ID',axis=1)"
   ]
  },
  {
   "cell_type": "code",
   "execution_count": 10,
   "id": "5382fbb0-5ab2-4313-a9c9-39e38915c32b",
   "metadata": {},
   "outputs": [
    {
     "data": {
      "text/plain": [
       "count    4.459000e+03\n",
       "mean     5.944923e+06\n",
       "std      8.234312e+06\n",
       "min      3.000000e+04\n",
       "25%      6.000000e+05\n",
       "50%      2.260000e+06\n",
       "75%      8.000000e+06\n",
       "max      4.000000e+07\n",
       "Name: target, dtype: float64"
      ]
     },
     "execution_count": 10,
     "metadata": {},
     "output_type": "execute_result"
    }
   ],
   "source": [
    "value['target'].describe()"
   ]
  },
  {
   "cell_type": "code",
   "execution_count": 11,
   "id": "711cd3fc-ed4f-4d3a-8787-a6236d8019cf",
   "metadata": {},
   "outputs": [
    {
     "name": "stderr",
     "output_type": "stream",
     "text": [
      "C:\\Users\\prish\\AppData\\Local\\Temp\\ipykernel_24884\\1017415132.py:2: UserWarning: \n",
      "\n",
      "`distplot` is a deprecated function and will be removed in seaborn v0.14.0.\n",
      "\n",
      "Please adapt your code to use either `displot` (a figure-level function with\n",
      "similar flexibility) or `histplot` (an axes-level function for histograms).\n",
      "\n",
      "For a guide to updating your code to use the new functions, please see\n",
      "https://gist.github.com/mwaskom/de44147ed2974457ad6372750bbe5751\n",
      "\n",
      "  sns.distplot(value['target'])\n",
      "C:\\Users\\prish\\anaconda3\\Lib\\site-packages\\seaborn\\_oldcore.py:1119: FutureWarning: use_inf_as_na option is deprecated and will be removed in a future version. Convert inf values to NaN before operating instead.\n",
      "  with pd.option_context('mode.use_inf_as_na', True):\n"
     ]
    },
    {
     "data": {
      "text/plain": [
       "<Axes: xlabel='target', ylabel='Density'>"
      ]
     },
     "execution_count": 11,
     "metadata": {},
     "output_type": "execute_result"
    },
    {
     "data": {
      "image/png": "[encoded data removed]",
      "text/plain": [
       "<Figure size 800x500 with 1 Axes>"
      ]
     },
     "metadata": {},
     "output_type": "display_data"
    }
   ],
   "source": [
    "plt.figure(figsize=(8,5))\n",
    "sns.distplot(value['target'])"
   ]
  },
  {
   "cell_type": "code",
   "execution_count": 12,
   "id": "803c1e7a-4393-40f3-805f-e28cd7bc0b16",
   "metadata": {},
   "outputs": [
    {
     "name": "stderr",
     "output_type": "stream",
     "text": [
      "C:\\Users\\prish\\AppData\\Local\\Temp\\ipykernel_24884\\2705360102.py:3: UserWarning: \n",
      "\n",
      "`distplot` is a deprecated function and will be removed in seaborn v0.14.0.\n",
      "\n",
      "Please adapt your code to use either `displot` (a figure-level function with\n",
      "similar flexibility) or `histplot` (an axes-level function for histograms).\n",
      "\n",
      "For a guide to updating your code to use the new functions, please see\n",
      "https://gist.github.com/mwaskom/de44147ed2974457ad6372750bbe5751\n",
      "\n",
      "  sns.distplot(np.log1p(value['target']),kde='false')\n",
      "C:\\Users\\prish\\anaconda3\\Lib\\site-packages\\seaborn\\_oldcore.py:1119: FutureWarning: use_inf_as_na option is deprecated and will be removed in a future version. Convert inf values to NaN before operating instead.\n",
      "  with pd.option_context('mode.use_inf_as_na', True):\n"
     ]
    },
    {
     "data": {
      "text/plain": [
       "<Axes: xlabel='target', ylabel='Density'>"
      ]
     },
     "execution_count": 12,
     "metadata": {},
     "output_type": "execute_result"
    },
    {
     "data": {
      "image/png": "[encoded data removed]",
      "text/plain": [
       "<Figure size 800x500 with 1 Axes>"
      ]
     },
     "metadata": {},
     "output_type": "display_data"
    }
   ],
   "source": [
    "#here, we can see that it is right skewed data,so we will use log transformation\n",
    "plt.figure(figsize=(8,5))\n",
    "sns.distplot(np.log1p(value['target']),kde='false')\n"
   ]
  },
  {
   "cell_type": "code",
   "execution_count": 13,
   "id": "acf27713-3e19-4348-9937-89b2c77502a2",
   "metadata": {},
   "outputs": [
    {
     "data": {
      "text/plain": [
       "count    4459.000000\n",
       "mean       14.490239\n",
       "std         1.750947\n",
       "min        10.308986\n",
       "25%        13.304687\n",
       "50%        14.630876\n",
       "75%        15.894952\n",
       "max        17.504390\n",
       "Name: target, dtype: float64"
      ]
     },
     "execution_count": 13,
     "metadata": {},
     "output_type": "execute_result"
    }
   ],
   "source": [
    "#now it is much closer to a normal distribution\n",
    "np.log1p(value['target']).describe()"
   ]
  },
  {
   "cell_type": "code",
   "execution_count": 14,
   "id": "e21f58de-48ca-41d9-a0ae-5d393af399e0",
   "metadata": {},
   "outputs": [
    {
     "data": {
      "text/plain": [
       "3835    40000000.0\n",
       "4220    40000000.0\n",
       "3668    40000000.0\n",
       "2266    40000000.0\n",
       "4111    40000000.0\n",
       "           ...    \n",
       "3698       30000.0\n",
       "2583       30000.0\n",
       "386        30000.0\n",
       "2546       30000.0\n",
       "2974       30000.0\n",
       "Name: target, Length: 4459, dtype: float64"
      ]
     },
     "execution_count": 14,
     "metadata": {},
     "output_type": "execute_result"
    }
   ],
   "source": [
    "#after using log transformation, we can see that the mean and median are almost similar-this is good for us as dealing with standardised data is better\n",
    "value['target'].sort_values(ascending=False)"
   ]
  },
  {
   "cell_type": "markdown",
   "id": "3beb568b-a99c-4587-91a8-9c3ac8648d89",
   "metadata": {},
   "source": [
    "the target ranges from 10^4 -10^7"
   ]
  },
  {
   "cell_type": "code",
   "execution_count": 15,
   "id": "c167367d-25db-446f-a5ee-32247db22c85",
   "metadata": {},
   "outputs": [
    {
     "data": {
      "text/plain": [
       "[(2000000.0, 207),\n",
       " (10000000.0, 199),\n",
       " (20000000.0, 156),\n",
       " (4000000.0, 148),\n",
       " (1000000.0, 129)]"
      ]
     },
     "execution_count": 15,
     "metadata": {},
     "output_type": "execute_result"
    }
   ],
   "source": [
    "Counter(value['target']).most_common()[:5] #getting top 5 most common values"
   ]
  },
  {
   "cell_type": "code",
   "execution_count": 16,
   "id": "3fcd453d-8e3a-4ef8-a124-d8c488d8f3a7",
   "metadata": {},
   "outputs": [
    {
     "data": {
      "text/plain": [
       "<Axes: >"
      ]
     },
     "execution_count": 16,
     "metadata": {},
     "output_type": "execute_result"
    },
    {
     "data": {
      "image/png": "[encoded data removed]",
      "text/plain": [
       "<Figure size 1200x700 with 1 Axes>"
      ]
     },
     "metadata": {},
     "output_type": "display_data"
    }
   ],
   "source": [
    "plt.figure(figsize=(12, 7))\n",
    "sns.boxplot(np.log1p(value['target']), orient='h')"
   ]
  },
  {
   "cell_type": "code",
   "execution_count": 17,
   "id": "15cff218-cb03-43e0-abf7-fff1b8e8e0db",
   "metadata": {},
   "outputs": [],
   "source": [
    "#we can see no outliers"
   ]
  },
  {
   "cell_type": "code",
   "execution_count": 18,
   "id": "d6d4fc89-c73f-4efc-80aa-25e12457c61d",
   "metadata": {},
   "outputs": [
    {
     "name": "stdout",
     "output_type": "stream",
     "text": [
      "no. of columns dropped:  256\n",
      "['d5308d8bc', 'c330f1a67', 'eeac16933', '7df8788e8', '5b91580ee', '6f29fbbc7', '46dafc868', 'ae41a98b6', 'f416800e9', '6d07828ca', '7ac332a1d', '70ee7950a', '833b35a7c', '2f9969eab', '8b1372217', '68322788b', '2288ac1a6', 'dc7f76962', '467044c26', '39ebfbfd9', '9a5ff8c23', 'f6fac27c8', '664e2800e', 'ae28689a2', 'd87dcac58', '4065efbb6', 'f944d9d43', 'c2c4491d5', 'a4346e2e2', '1af366d4f', 'cfff5b7c8', 'da215e99e', '5acd26139', '9be9c6cef', '1210d0271', '21b0a54cb', 'da35e792b', '754c502dd', '0b346adbd', '0f196b049', 'b603ed95d', '2a50e001c', '1e81432e7', '10350ea43', '3c7c7e24c', '7585fce2a', '64d036163', 'f25d9935c', 'd98484125', '95c85e227', '9a5273600', '746cdb817', '6377a6293', '7d944fb0c', '87eb21c50', '5ea313a8c', '0987a65a1', '2fb7c2443', 'f5dde409b', '1ae50d4c3', '2b21cd7d8', '0db8a9272', '804d8b55b', '76f135fa6', '7d7182143', 'f88e61ae6', '378ed28e0', 'ca4ba131e', '1352ddae5', '2b601ad67', '6e42ff7c7', '22196a84c', '0e410eb3d', '992e6d1d3', '90a742107', '08b9ec4ae', 'd95203ded', '58ad51def', '9f69ae59f', '863de8a31', 'be10df47c', 'f006d9618', 'a7e39d23d', '5ed0abe85', '6c578fe94', '7fa4fcee9', '5e0571f07', 'fd5659511', 'e06b9f40f', 'c506599c8', '99de8c2dc', 'b05f4b229', '5e0834175', 'eb1cc0d9c', 'b281a62b9', '00fcf67e4', 'e37b65992', '2308e2b29', 'c342e8709', '708471ebf', 'f614aac15', '15ecf7b68', '3bfe540f1', '7a0d98f3c', 'e642315a5', 'c16d456a7', '0c9b5bcfa', 'b778ab129', '2ace87cdd', '697a566f0', '97b1f84fc', '34eff114b', '5281333d7', 'c89f3ba7e', 'cd6d3c7e6', 'fc7c8f2e8', 'abbbf9f82', '24a233e8f', '8e26b560e', 'a28ac1049', '504502ce1', 'd9a8615f3', '4efd6d283', '34cc56e83', '93e98252a', '2b6cef19e', 'c7f70a49b', '0d29ab7eb', 'e4a0d39b7', 'a4d1a8409', 'bc694fc8f', '3a36fc3a2', '4ffba44d3', '9bfdec4bc', '66a866d2f', 'f941e9df7', 'e7af4dbf3', 'dc9a54a3e', '748168a04', 'bba8ce4bb', 'ff6f62aa4', 'b06fe66ba', 'ae87ebc42', 'f26589e57', '963bb53b1', 'a531a4bf0', '9fc79985d', '9350d55c1', 'de06e884c', 'fc10bdf18', 'e0907e883', 'c586d79a1', 'e15e1513d', 'a06067897', '643e42fcb', '217cd3838', '047ebc242', '9b6ce40cf', '3b2c972b3', '17a7bf25a', 'c9028d46b', '9e0473c91', '6b041d374', '783c50218', '19122191d', 'ce573744f', '1c4ea481e', 'fbd6e0a0b', '69831c049', 'b87e3036b', '54ba515ee', 'a09ba0b15', '90f77ec55', 'fb02ef0ea', '3b0cccd29', 'fe9ed417c', '589e8bd6f', '17b5a03fd', '80e16b49a', 'a3d5c2c2a', '1bd3a4e92', '611d81daa', '3d7780b1c', '113fd0206', '5e5894826', 'cb36204f9', 'bc4e3d600', 'c66e2deb0', 'c25851298', 'a7f6de992', '3f93a3272', 'c1b95c2ec', '6bda21fee', '4a64e56e7', '943743753', '20854f8bf', 'ac2e428a9', '5ee7de0be', '316423a21', '2e52b0c6a', '8bdf6bc7e', '8f523faf2', '4758340d5', '8411096ec', '9678b95b7', 'a185e35cc', 'fa980a778', 'c8d90f7d7', '080540c81', '32591c8b4', '5779da33c', 'bb425b41e', '01599af81', '1654ab770', 'd334a588e', 'b4353599c', '51b53eaec', '2cc0fbc52', '45ffef194', 'c15ac04ee', '5b055c8ea', 'd0466eb58', 'a80633823', 'a117a5409', '7ddac276f', '8c32df8b3', 'e5649663e', '6c16efbb8', '9118fd5ca', 'ca8d565f1', '16a5bb8d2', 'fd6347461', 'f5179fb9c', '97428b646', 'f684b0a96', 'e4b2caa9f', '2c2d9f267', '96eb14eaf', 'cb2cb460c', '86f843927', 'ecd16fc60', '801c6dc8e', 'f859a25b8', 'ae846f332', '2252c7403', 'fb9e07326', 'd196ca1fd', 'a8e562e8e', 'eb6bb7ce1', '5beff147e', '52b347cdc', '4600aadcf', '6fa0b9dab', '43d70cc4d', '408021ef8', 'e29d22b59']\n"
     ]
    }
   ],
   "source": [
    "#now we drop all those columns having std dev = 0 as such columns do not help us in prediction\n",
    "drop_cols=[]\n",
    "for cols in value.columns:\n",
    "    if value[cols].std() == 0:\n",
    "      drop_cols.append(cols)\n",
    "print(\"no. of columns dropped: \",len(drop_cols))\n",
    "print(drop_cols)\n",
    "value.drop(drop_cols,axis=1,inplace=True)"
   ]
  },
  {
   "cell_type": "code",
   "execution_count": 19,
   "id": "f648f7e3-fc37-4b21-b76f-d009079c9788",
   "metadata": {},
   "outputs": [],
   "source": [
    "#Now we standardise the remaining data\n",
    "from sklearn.preprocessing import StandardScaler\n",
    "sc =StandardScaler()\n",
    "sc.fit(value)\n",
    "value_sc=sc.transform(value)"
   ]
  },
  {
   "cell_type": "code",
   "execution_count": 20,
   "id": "e7d81d30-2106-4c4e-aa33-12ef1ae113b8",
   "metadata": {},
   "outputs": [
    {
     "name": "stdout",
     "output_type": "stream",
     "text": [
      "[[ 3.89330325 -0.03764565 -0.02163947 ... -0.07234203 -0.05636327\n",
      "  -0.12585201]\n",
      " [-0.64917665 -0.03764565 -0.02163947 ... -0.07234203 -0.05636327\n",
      "  -0.12585201]\n",
      " [ 0.49251616 -0.03764565 -0.02163947 ... -0.07234203 -0.05636327\n",
      "  -0.12585201]\n",
      " ...\n",
      " [-0.38197195 -0.03764565 -0.02163947 ... -0.07234203 -0.05636327\n",
      "  -0.12585201]\n",
      " [ 0.49251616 -0.03764565 -0.02163947 ... -0.07234203 -0.05636327\n",
      "  -0.12585201]\n",
      " [ 1.70708298 -0.03764565 -0.02163947 ... -0.07234203 -0.05636327\n",
      "  -0.12585201]]\n"
     ]
    }
   ],
   "source": [
    "print(value_sc)"
   ]
  },
  {
   "cell_type": "code",
   "execution_count": 21,
   "id": "1e178a3b-e128-46b2-b187-9316f2147959",
   "metadata": {},
   "outputs": [
    {
     "data": {
      "text/html": [
       "<div>\n",
       "<style scoped>\n",
       "    .dataframe tbody tr th:only-of-type {\n",
       "        vertical-align: middle;\n",
       "    }\n",
       "\n",
       "    .dataframe tbody tr th {\n",
       "        vertical-align: top;\n",
       "    }\n",
       "\n",
       "    .dataframe thead th {\n",
       "        text-align: right;\n",
       "    }\n",
       "</style>\n",
       "<table border=\"1\" class=\"dataframe\">\n",
       "  <thead>\n",
       "    <tr style=\"text-align: right;\">\n",
       "      <th></th>\n",
       "      <th>48df886f9</th>\n",
       "      <th>0deb4b6a8</th>\n",
       "      <th>34b15f335</th>\n",
       "      <th>a8cb14b00</th>\n",
       "      <th>2f0771a37</th>\n",
       "      <th>30347e683</th>\n",
       "      <th>d08d1fbe3</th>\n",
       "      <th>6ee66e115</th>\n",
       "      <th>20aa07010</th>\n",
       "      <th>dc5a8f1d8</th>\n",
       "      <th>...</th>\n",
       "      <th>3ecc09859</th>\n",
       "      <th>9281abeea</th>\n",
       "      <th>8675bec0b</th>\n",
       "      <th>3a13ed79a</th>\n",
       "      <th>f677d4d13</th>\n",
       "      <th>71b203550</th>\n",
       "      <th>137efaa80</th>\n",
       "      <th>fb36b89d9</th>\n",
       "      <th>7e293fbaf</th>\n",
       "      <th>9fc776466</th>\n",
       "    </tr>\n",
       "  </thead>\n",
       "  <tbody>\n",
       "    <tr>\n",
       "      <th>0</th>\n",
       "      <td>0.0</td>\n",
       "      <td>0</td>\n",
       "      <td>0.0</td>\n",
       "      <td>0</td>\n",
       "      <td>0</td>\n",
       "      <td>0</td>\n",
       "      <td>0</td>\n",
       "      <td>0</td>\n",
       "      <td>0.0</td>\n",
       "      <td>0.0</td>\n",
       "      <td>...</td>\n",
       "      <td>0.0</td>\n",
       "      <td>0.0</td>\n",
       "      <td>0.0</td>\n",
       "      <td>0</td>\n",
       "      <td>0</td>\n",
       "      <td>0</td>\n",
       "      <td>0</td>\n",
       "      <td>0</td>\n",
       "      <td>0</td>\n",
       "      <td>0</td>\n",
       "    </tr>\n",
       "    <tr>\n",
       "      <th>1</th>\n",
       "      <td>0.0</td>\n",
       "      <td>0</td>\n",
       "      <td>0.0</td>\n",
       "      <td>0</td>\n",
       "      <td>0</td>\n",
       "      <td>0</td>\n",
       "      <td>0</td>\n",
       "      <td>0</td>\n",
       "      <td>2200000.0</td>\n",
       "      <td>0.0</td>\n",
       "      <td>...</td>\n",
       "      <td>0.0</td>\n",
       "      <td>0.0</td>\n",
       "      <td>0.0</td>\n",
       "      <td>0</td>\n",
       "      <td>0</td>\n",
       "      <td>0</td>\n",
       "      <td>0</td>\n",
       "      <td>0</td>\n",
       "      <td>0</td>\n",
       "      <td>0</td>\n",
       "    </tr>\n",
       "    <tr>\n",
       "      <th>2</th>\n",
       "      <td>0.0</td>\n",
       "      <td>0</td>\n",
       "      <td>0.0</td>\n",
       "      <td>0</td>\n",
       "      <td>0</td>\n",
       "      <td>0</td>\n",
       "      <td>0</td>\n",
       "      <td>0</td>\n",
       "      <td>0.0</td>\n",
       "      <td>0.0</td>\n",
       "      <td>...</td>\n",
       "      <td>0.0</td>\n",
       "      <td>0.0</td>\n",
       "      <td>0.0</td>\n",
       "      <td>0</td>\n",
       "      <td>0</td>\n",
       "      <td>0</td>\n",
       "      <td>0</td>\n",
       "      <td>0</td>\n",
       "      <td>0</td>\n",
       "      <td>0</td>\n",
       "    </tr>\n",
       "    <tr>\n",
       "      <th>3</th>\n",
       "      <td>0.0</td>\n",
       "      <td>0</td>\n",
       "      <td>0.0</td>\n",
       "      <td>0</td>\n",
       "      <td>0</td>\n",
       "      <td>0</td>\n",
       "      <td>0</td>\n",
       "      <td>0</td>\n",
       "      <td>0.0</td>\n",
       "      <td>0.0</td>\n",
       "      <td>...</td>\n",
       "      <td>0.0</td>\n",
       "      <td>0.0</td>\n",
       "      <td>0.0</td>\n",
       "      <td>0</td>\n",
       "      <td>0</td>\n",
       "      <td>0</td>\n",
       "      <td>0</td>\n",
       "      <td>0</td>\n",
       "      <td>0</td>\n",
       "      <td>0</td>\n",
       "    </tr>\n",
       "    <tr>\n",
       "      <th>4</th>\n",
       "      <td>0.0</td>\n",
       "      <td>0</td>\n",
       "      <td>0.0</td>\n",
       "      <td>0</td>\n",
       "      <td>0</td>\n",
       "      <td>0</td>\n",
       "      <td>0</td>\n",
       "      <td>0</td>\n",
       "      <td>2000000.0</td>\n",
       "      <td>0.0</td>\n",
       "      <td>...</td>\n",
       "      <td>0.0</td>\n",
       "      <td>0.0</td>\n",
       "      <td>0.0</td>\n",
       "      <td>0</td>\n",
       "      <td>0</td>\n",
       "      <td>0</td>\n",
       "      <td>0</td>\n",
       "      <td>0</td>\n",
       "      <td>0</td>\n",
       "      <td>0</td>\n",
       "    </tr>\n",
       "  </tbody>\n",
       "</table>\n",
       "<p>5 rows × 4735 columns</p>\n",
       "</div>"
      ],
      "text/plain": [
       "   48df886f9  0deb4b6a8  34b15f335  a8cb14b00  2f0771a37  30347e683  \\\n",
       "0        0.0          0        0.0          0          0          0   \n",
       "1        0.0          0        0.0          0          0          0   \n",
       "2        0.0          0        0.0          0          0          0   \n",
       "3        0.0          0        0.0          0          0          0   \n",
       "4        0.0          0        0.0          0          0          0   \n",
       "\n",
       "   d08d1fbe3  6ee66e115  20aa07010  dc5a8f1d8  ...  3ecc09859  9281abeea  \\\n",
       "0          0          0        0.0        0.0  ...        0.0        0.0   \n",
       "1          0          0  2200000.0        0.0  ...        0.0        0.0   \n",
       "2          0          0        0.0        0.0  ...        0.0        0.0   \n",
       "3          0          0        0.0        0.0  ...        0.0        0.0   \n",
       "4          0          0  2000000.0        0.0  ...        0.0        0.0   \n",
       "\n",
       "   8675bec0b  3a13ed79a  f677d4d13  71b203550  137efaa80  fb36b89d9  \\\n",
       "0        0.0          0          0          0          0          0   \n",
       "1        0.0          0          0          0          0          0   \n",
       "2        0.0          0          0          0          0          0   \n",
       "3        0.0          0          0          0          0          0   \n",
       "4        0.0          0          0          0          0          0   \n",
       "\n",
       "   7e293fbaf  9fc776466  \n",
       "0          0          0  \n",
       "1          0          0  \n",
       "2          0          0  \n",
       "3          0          0  \n",
       "4          0          0  \n",
       "\n",
       "[5 rows x 4735 columns]"
      ]
     },
     "execution_count": 21,
     "metadata": {},
     "output_type": "execute_result"
    }
   ],
   "source": [
    "#now that the features are standardised , we assign them in object x\n",
    "X =value.loc[:,value.columns !='target']\n",
    "X.head()"
   ]
  },
  {
   "cell_type": "code",
   "execution_count": 22,
   "id": "e6ae1ace-c208-4394-94f4-d79bad827fba",
   "metadata": {},
   "outputs": [
    {
     "data": {
      "text/plain": [
       "0    17.453097\n",
       "1    13.304687\n",
       "2    16.118096\n",
       "3    14.508658\n",
       "4    16.482739\n",
       "Name: target, dtype: float64"
      ]
     },
     "execution_count": 22,
     "metadata": {},
     "output_type": "execute_result"
    }
   ],
   "source": [
    "y =np.log1p(value['target'])   #to get standard values of target and assign it to object y\n",
    "y.head()"
   ]
  },
  {
   "cell_type": "code",
   "execution_count": 23,
   "id": "719ffa44-657f-440e-9e05-ecc1b12b422b",
   "metadata": {},
   "outputs": [],
   "source": [
    "from sklearn.model_selection import train_test_split"
   ]
  },
  {
   "cell_type": "code",
   "execution_count": 24,
   "id": "ee6a5be2-55f1-4765-9139-6302b15134d7",
   "metadata": {},
   "outputs": [],
   "source": [
    "X_train,X_test,y_train,y_test=train_test_split(X,y,test_size=0.2,random_state=1)"
   ]
  },
  {
   "cell_type": "code",
   "execution_count": 25,
   "id": "c3ccd085-4a6a-4e70-8947-4c8ae24f15a6",
   "metadata": {},
   "outputs": [
    {
     "name": "stdout",
     "output_type": "stream",
     "text": [
      "(3567, 4735)\n",
      "(3567,)\n",
      "(892, 4735)\n",
      "(892,)\n"
     ]
    }
   ],
   "source": [
    "print(X_train.shape) #since we had dropped a few cols, now we deal with about 4700 features\n",
    "print(y_train.shape)\n",
    "print(X_test.shape)\n",
    "print(y_test.shape)"
   ]
  },
  {
   "cell_type": "code",
   "execution_count": 26,
   "id": "b634b605-3abb-47be-843a-f148d7a5122b",
   "metadata": {},
   "outputs": [],
   "source": [
    "from sklearn.ensemble import RandomForestRegressor"
   ]
  },
  {
   "cell_type": "code",
   "execution_count": 27,
   "id": "31b2a7fc-fbe2-42dd-abb8-8a38e2829769",
   "metadata": {},
   "outputs": [
    {
     "name": "stdout",
     "output_type": "stream",
     "text": [
      "CPU times: total: 3min 12s\n",
      "Wall time: 3min 24s\n"
     ]
    },
    {
     "data": {
      "text/html": [
       "<style>#sk-container-id-1 {color: black;background-color: white;}#sk-container-id-1 pre{padding: 0;}#sk-container-id-1 div.sk-toggleable {background-color: white;}#sk-container-id-1 label.sk-toggleable__label {cursor: pointer;display: block;width: 100%;margin-bottom: 0;padding: 0.3em;box-sizing: border-box;text-align: center;}#sk-container-id-1 label.sk-toggleable__label-arrow:before {content: \"▸\";float: left;margin-right: 0.25em;color: #696969;}#sk-container-id-1 label.sk-toggleable__label-arrow:hover:before {color: black;}#sk-container-id-1 div.sk-estimator:hover label.sk-toggleable__label-arrow:before {color: black;}#sk-container-id-1 div.sk-toggleable__content {max-height: 0;max-width: 0;overflow: hidden;text-align: left;background-color: #f0f8ff;}#sk-container-id-1 div.sk-toggleable__content pre {margin: 0.2em;color: black;border-radius: 0.25em;background-color: #f0f8ff;}#sk-container-id-1 input.sk-toggleable__control:checked~div.sk-toggleable__content {max-height: 200px;max-width: 100%;overflow: auto;}#sk-container-id-1 input.sk-toggleable__control:checked~label.sk-toggleable__label-arrow:before {content: \"▾\";}#sk-container-id-1 div.sk-estimator input.sk-toggleable__control:checked~label.sk-toggleable__label {background-color: #d4ebff;}#sk-container-id-1 div.sk-label input.sk-toggleable__control:checked~label.sk-toggleable__label {background-color: #d4ebff;}#sk-container-id-1 input.sk-hidden--visually {border: 0;clip: rect(1px 1px 1px 1px);clip: rect(1px, 1px, 1px, 1px);height: 1px;margin: -1px;overflow: hidden;padding: 0;position: absolute;width: 1px;}#sk-container-id-1 div.sk-estimator {font-family: monospace;background-color: #f0f8ff;border: 1px dotted black;border-radius: 0.25em;box-sizing: border-box;margin-bottom: 0.5em;}#sk-container-id-1 div.sk-estimator:hover {background-color: #d4ebff;}#sk-container-id-1 div.sk-parallel-item::after {content: \"\";width: 100%;border-bottom: 1px solid gray;flex-grow: 1;}#sk-container-id-1 div.sk-label:hover label.sk-toggleable__label {background-color: #d4ebff;}#sk-container-id-1 div.sk-serial::before {content: \"\";position: absolute;border-left: 1px solid gray;box-sizing: border-box;top: 0;bottom: 0;left: 50%;z-index: 0;}#sk-container-id-1 div.sk-serial {display: flex;flex-direction: column;align-items: center;background-color: white;padding-right: 0.2em;padding-left: 0.2em;position: relative;}#sk-container-id-1 div.sk-item {position: relative;z-index: 1;}#sk-container-id-1 div.sk-parallel {display: flex;align-items: stretch;justify-content: center;background-color: white;position: relative;}#sk-container-id-1 div.sk-item::before, #sk-container-id-1 div.sk-parallel-item::before {content: \"\";position: absolute;border-left: 1px solid gray;box-sizing: border-box;top: 0;bottom: 0;left: 50%;z-index: -1;}#sk-container-id-1 div.sk-parallel-item {display: flex;flex-direction: column;z-index: 1;position: relative;background-color: white;}#sk-container-id-1 div.sk-parallel-item:first-child::after {align-self: flex-end;width: 50%;}#sk-container-id-1 div.sk-parallel-item:last-child::after {align-self: flex-start;width: 50%;}#sk-container-id-1 div.sk-parallel-item:only-child::after {width: 0;}#sk-container-id-1 div.sk-dashed-wrapped {border: 1px dashed gray;margin: 0 0.4em 0.5em 0.4em;box-sizing: border-box;padding-bottom: 0.4em;background-color: white;}#sk-container-id-1 div.sk-label label {font-family: monospace;font-weight: bold;display: inline-block;line-height: 1.2em;}#sk-container-id-1 div.sk-label-container {text-align: center;}#sk-container-id-1 div.sk-container {/* jupyter's `normalize.less` sets `[hidden] { display: none; }` but bootstrap.min.css set `[hidden] { display: none !important; }` so we also need the `!important` here to be able to override the default hidden behavior on the sphinx rendered scikit-learn.org. See: https://github.com/scikit-learn/scikit-learn/issues/21755 */display: inline-block !important;position: relative;}#sk-container-id-1 div.sk-text-repr-fallback {display: none;}</style><div id=\"sk-container-id-1\" class=\"sk-top-container\"><div class=\"sk-text-repr-fallback\"><pre>RandomForestRegressor(random_state=0)</pre><b>In a Jupyter environment, please rerun this cell to show the HTML representation or trust the notebook. <br />On GitHub, the HTML representation is unable to render, please try loading this page with nbviewer.org.</b></div><div class=\"sk-container\" hidden><div class=\"sk-item\"><div class=\"sk-estimator sk-toggleable\"><input class=\"sk-toggleable__control sk-hidden--visually\" id=\"sk-estimator-id-1\" type=\"checkbox\" checked><label for=\"sk-estimator-id-1\" class=\"sk-toggleable__label sk-toggleable__label-arrow\">RandomForestRegressor</label><div class=\"sk-toggleable__content\"><pre>RandomForestRegressor(random_state=0)</pre></div></div></div></div></div>"
      ],
      "text/plain": [
       "RandomForestRegressor(random_state=0)"
      ]
     },
     "execution_count": 27,
     "metadata": {},
     "output_type": "execute_result"
    }
   ],
   "source": [
    "%%time\n",
    "rfc=RandomForestRegressor(random_state=0)\n",
    "rfc.fit(X_train,y_train) #we make the model and fit the training set"
   ]
  },
  {
   "cell_type": "code",
   "execution_count": 28,
   "id": "1c3ec6e7-781a-49ba-bb6c-2f387297ca9e",
   "metadata": {},
   "outputs": [],
   "source": [
    "predictions=rfc.predict(X_test)  #now we use the model to predict on the test set"
   ]
  },
  {
   "cell_type": "code",
   "execution_count": 29,
   "id": "408a1902-6d71-4aca-9253-082280acf37d",
   "metadata": {},
   "outputs": [
    {
     "name": "stdout",
     "output_type": "stream",
     "text": [
      "[14.6628646  14.68219687 12.03681117 14.84892003 13.53126709 14.65850909\n",
      " 15.33596762 16.05648144 13.98085438 15.00951275 15.730343   15.77623961\n",
      " 14.51777257 14.60874079 15.46340797 13.83762493 14.88000452 14.79812397\n",
      " 15.40507872 15.11148442 14.01518779 15.30379476 14.38778811 14.86078904\n",
      " 12.52019587 14.36902409 14.73425033 13.30377023 14.84002333 13.52269918\n",
      " 14.64358765 15.71852019 14.23975486 13.39665372 14.34711755 14.03241543\n",
      " 16.02226127 14.28117964 14.87984162 12.70521863 14.24058875 14.34671233\n",
      " 14.91098917 14.3952385  14.57462148 14.31676836 14.52301041 11.58670129\n",
      " 13.72870149 15.55047549 15.08257273 14.19551384 14.38017206 14.13382577\n",
      " 14.28872359 16.5105053  14.34033977 12.72367938 13.22994583 15.26708416\n",
      " 14.62461001 13.92854063 14.88633243 14.41427082 13.12347361 14.64585033\n",
      " 12.64360089 13.09498176 14.63019563 14.96723162 14.99156793 12.45147112\n",
      " 13.01457188 15.00728329 15.01365677 14.87071705 17.34447087 14.07557261\n",
      " 14.8815424  17.27417071 13.91064208 13.44905089 14.84386586 14.59237266\n",
      " 13.20879244 12.33523181 14.19382122 14.12491544 14.67647259 14.75566416\n",
      " 13.83484146 15.94906818 14.85209346 16.61164479 14.27537325 15.13228177\n",
      " 13.54639964 12.90776861 15.09691175 13.02021604 14.31406254 15.55669648\n",
      " 13.89350813 14.546091   14.3810818  14.83900482 11.84972152 13.9469901\n",
      " 14.67813566 13.35030898 14.3569813  14.46645485 14.13145332 14.80424536\n",
      " 13.62431836 15.4791644  14.29408407 13.78972361 14.65519593 13.35772628\n",
      " 14.86664504 14.65931093 14.55963161 14.42481626 14.87849402 14.4138468\n",
      " 14.36816154 13.30119758 15.11126551 14.65151546 13.45034584 17.0178176\n",
      " 14.8176482  14.82684499 14.46290361 15.55881854 14.11045376 14.19809812\n",
      " 15.49307336 14.92417687 14.3857501  13.6395044  14.65761127 13.64595336\n",
      " 14.39546041 15.65561166 15.44240068 13.9523929  13.38807452 14.73938926\n",
      " 14.75901048 13.54640816 15.56652718 14.48849148 12.70503312 14.27866229\n",
      " 14.98530925 13.47782733 14.69660207 13.95214232 15.68634196 14.32469143\n",
      " 15.10143597 15.15796941 14.85264994 15.81271343 14.97629408 11.81781079\n",
      " 14.46047761 15.24779105 13.23843155 13.62783342 15.50799797 15.15070776\n",
      " 16.27823351 15.00961649 13.02173658 14.6098913  12.75415625 14.97337241\n",
      " 14.41498486 13.85414612 14.30256103 14.56696756 15.06122865 14.44581334\n",
      " 15.77483471 13.77924008 15.35784626 14.58744249 15.91622116 15.50117713\n",
      " 13.91087355 14.90353248 13.00927182 15.01556691 15.53403593 14.87661803\n",
      " 14.21288377 14.07230499 13.04466145 14.31843114 14.44187065 14.35638415\n",
      " 17.04455912 14.76543886 14.29312595 15.5765543  14.35938602 15.29756206\n",
      " 14.10607142 15.44968982 15.61941404 14.86768183 13.99902696 14.34055559\n",
      " 13.73002556 15.04018812 13.43377825 15.00200369 13.80631934 14.07468434\n",
      " 13.96073398 15.4604142  16.33333654 13.99819889 14.72923901 15.2315365\n",
      " 12.55320964 12.00456279 14.65707183 14.47048308 13.04130202 14.37773932\n",
      " 16.52074747 15.70132384 15.39352948 14.38590638 14.82374274 16.86678291\n",
      " 14.71172104 14.82852188 12.01090377 16.30532812 14.57333354 15.31738057\n",
      " 13.9183744  13.24261161 15.52069068 13.17687848 14.68694363 14.10261697\n",
      " 14.84893583 14.91229006 14.19934537 13.99382904 14.10863557 15.7317817\n",
      " 14.21695466 13.72903792 14.41158202 14.1100843  14.85985266 14.37903593\n",
      " 14.43770201 14.27160478 15.10688265 14.50453516 16.92239739 13.6990261\n",
      " 13.93424976 13.87075812 15.27657164 13.16117536 13.77624332 13.77284337\n",
      " 14.0603286  15.16061029 15.3920047  14.63137156 13.35484274 16.20779735\n",
      " 14.43509523 12.15018311 13.94180499 15.5621061  12.84371944 14.83511903\n",
      " 15.30634766 17.30823485 14.94662732 14.97305564 12.88234716 14.94936085\n",
      " 14.51370717 14.61344501 13.50421829 14.16749911 12.64180368 14.85148801\n",
      " 14.42698217 14.25410512 14.28929775 13.99681851 13.11442492 14.56856948\n",
      " 15.47519025 14.74397191 13.6964731  14.16932132 13.84896281 16.71997093\n",
      " 15.17104221 12.43711853 14.95280048 12.95200357 14.32557403 14.58327165\n",
      " 15.13382346 12.87621353 14.6206852  11.99492801 14.73166966 14.49353506\n",
      " 14.78400944 14.75490883 14.14372447 14.86009447 14.80551913 15.37366394\n",
      " 15.20996528 16.15180639 14.35956404 14.98743445 14.56578612 14.77912517\n",
      " 14.56346059 14.50013515 13.24210308 13.91159194 15.08619986 13.61768387\n",
      " 11.99587105 14.01330092 13.78207634 14.95314464 13.52705513 13.13415556\n",
      " 15.17663423 13.85715334 13.66381176 14.38045345 14.22177067 14.97454508\n",
      " 16.16032762 15.10735453 15.06511235 15.29579465 14.50777484 11.35260492\n",
      " 12.69540081 15.88523073 13.57957944 14.32137491 13.43407674 13.76531192\n",
      " 13.8221693  15.54546502 14.52656338 15.251833   15.54793821 14.6385138\n",
      " 14.68043929 15.18529106 15.20230689 16.55807128 14.32957615 13.3812207\n",
      " 15.41673514 14.19862181 14.25884076 14.95727453 15.47187442 14.71872736\n",
      " 14.14326341 13.81831541 15.23190901 15.82286569 14.03449769 13.93471004\n",
      " 14.37984951 16.05959776 15.39056374 14.54553839 15.15093755 14.12867271\n",
      " 14.52492856 14.2713475  14.61715263 14.75676661 15.4343651  12.59676553\n",
      " 15.76730506 14.11566558 14.28123142 13.03533764 13.4857992  12.78516125\n",
      " 14.94102772 16.04189056 14.90842828 14.66697445 15.01137371 16.89998776\n",
      " 14.52652023 15.34341282 12.80798293 13.40801818 15.19194973 14.14304367\n",
      " 17.28376023 14.31204429 13.5501654  14.45603047 14.55766041 15.18355655\n",
      " 13.2942434  13.37387788 14.77039263 12.28010268 15.10868967 14.5669586\n",
      " 14.8137316  14.81965087 14.63341997 14.44452684 13.90359971 15.03759117\n",
      " 15.25195395 14.5402385  13.91712244 15.74169769 14.87990877 14.92070567\n",
      " 17.11061463 13.85578027 13.62782192 14.79622149 13.96824283 14.57430032\n",
      " 14.25486875 16.63664108 15.65955544 15.95586121 13.82682148 14.23705041\n",
      " 14.19205638 14.32596265 14.67048149 13.58773248 14.39575322 14.00971912\n",
      " 14.81172108 14.72659386 14.79888632 14.92637228 14.80280513 13.05754581\n",
      " 15.13116157 13.39793197 14.03638384 12.63036116 14.26197366 12.85464525\n",
      " 13.08639468 13.73371119 13.93770491 13.67989233 15.39796338 17.10666183\n",
      " 12.96888435 11.97326032 13.00055686 13.84132306 15.08550336 14.77936028\n",
      " 15.25867985 13.84042136 16.4010292  11.9215363  14.4283746  14.47210709\n",
      " 14.10151493 15.18568887 14.37220695 14.96522386 13.68293934 14.86899879\n",
      " 14.94838675 14.50312163 13.18300733 14.92788179 14.65335597 13.86798571\n",
      " 15.11548071 14.67537495 14.00362324 14.8204313  15.03670622 13.92753796\n",
      " 15.27685898 15.03225336 15.20280643 15.08714837 14.11980852 14.08410404\n",
      " 14.97046405 13.36876928 14.67237747 13.34361425 14.51303466 14.94010161\n",
      " 12.16794215 15.4632335  13.71243227 14.10725132 13.43307245 14.27953996\n",
      " 15.508293   14.99433467 13.99659798 13.46671276 11.53636684 14.23663317\n",
      " 12.97120484 16.79160519 14.33030301 16.89653059 15.40920798 14.47680837\n",
      " 14.42176708 14.77553701 15.05716506 13.91387964 14.51397753 14.53089785\n",
      " 12.60246186 12.17281913 11.88845137 13.28617249 13.31872454 15.0593899\n",
      " 14.34663586 14.95050962 14.04294688 13.35076052 14.14366789 15.3972415\n",
      " 12.11849375 14.22391312 14.63025699 12.60655961 13.29165741 13.17640143\n",
      " 14.68646563 15.38580726 15.13932519 15.11116108 12.5088757  14.95319142\n",
      " 14.24937575 15.72234758 14.10780792 15.43000494 14.64975221 14.97882761\n",
      " 15.09068377 14.21132406 14.3467163  14.67871819 14.71168788 15.29272831\n",
      " 12.22103221 12.02549949 15.07077823 15.46248105 15.25044975 14.01095362\n",
      " 14.58621226 14.40533204 14.78454347 14.66481919 14.64684764 14.97238978\n",
      " 14.53797793 14.85092969 13.98385521 14.63754157 14.34123838 14.91486713\n",
      " 13.22607325 11.76747965 14.45204576 14.64380171 14.75444863 14.93882031\n",
      " 14.69855566 15.63171093 16.65079627 14.62191955 16.15523659 14.97303026\n",
      " 14.63528289 13.24228989 16.06612806 15.3759232  14.57951658 13.64146468\n",
      " 14.0115167  15.04490464 14.0279858  14.63534801 14.21803484 15.2141604\n",
      " 13.98665142 14.43576854 13.94566329 14.0847161  15.27731757 12.48840075\n",
      " 15.18630952 14.59540538 14.06674694 14.71103498 14.80703065 14.09786655\n",
      " 12.75357909 14.33341583 14.48498781 13.57568272 14.23055411 15.3528628\n",
      " 14.65849325 14.56143726 14.35329861 14.34276816 14.99763254 14.87775972\n",
      " 14.48083755 16.79735062 14.0930955  14.67597676 14.63082356 14.37217067\n",
      " 13.01158387 14.66987873 13.0117616  15.47997579 14.27301757 13.93352025\n",
      " 14.1072108  13.1906652  15.17741348 13.87329068 13.87871755 14.50081733\n",
      " 13.77169224 14.9831345  14.57461236 14.52595226 14.67246938 15.05386659\n",
      " 13.39840923 12.21966661 14.8596945  13.82671304 12.61264006 12.6819298\n",
      " 15.39773476 14.78998564 13.72693936 14.97740582 13.89024942 13.31740468\n",
      " 12.90282799 14.95686999 14.67557694 14.30803925 13.56418459 14.47558421\n",
      " 14.63729195 14.84599774 14.33370089 14.69036932 14.40167686 12.25483857\n",
      " 13.93594298 14.27487604 15.14314547 14.9721229  14.89740049 15.12279863\n",
      " 14.96868907 15.05439057 15.60086364 15.18376064 16.09680244 15.34511135\n",
      " 14.13374335 12.65318263 14.16156859 13.86535336 14.91026922 15.70280604\n",
      " 15.0907649  15.17017367 15.24553466 14.41131231 15.40837682 15.28744794\n",
      " 13.0546758  14.53134799 16.35321943 12.45961272 14.46131392 15.14898392\n",
      " 13.25121199 14.54439567 14.13246487 14.79420061 14.38473441 14.44460243\n",
      " 14.6561791  14.49198128 15.42108765 13.10770671 12.542534   14.21735239\n",
      " 14.01867032 14.67359655 14.53966784 15.48437376 12.3156198  15.25631579\n",
      " 14.03804386 14.4632456  15.11447849 15.2579326  13.42182894 13.82311778\n",
      " 12.53237846 15.00564838 12.5821671  14.32993969 15.68449085 15.00992407\n",
      " 14.71811107 12.72400258 14.53987482 15.22366002 15.60899964 14.4488029\n",
      " 11.92204088 15.37862196 14.27515913 14.19691108 15.35093807 14.94455137\n",
      " 14.56450675 14.31090261 14.67149431 15.30144733 14.31384361 14.42270387\n",
      " 14.63643362 14.3357177  12.10342985 14.30823178 14.19880693 14.76622599\n",
      " 13.0849432  14.99368014 13.74649051 14.29196593 13.38077489 13.4675017\n",
      " 14.77946646 13.6322261  13.93324907 15.2749712  14.14519089 13.17772339\n",
      " 14.2972572  13.33874973 13.41887536 13.8139213  14.93586942 14.63682827\n",
      " 14.03246085 13.46850591 15.40095694 14.76142209 14.16540443 13.70984486\n",
      " 14.32276355 14.35347643 14.63565675 15.75973409 14.7021567  14.85654668\n",
      " 14.08498792 13.97745841 14.44968512 12.51439102 13.22308556 14.32721071\n",
      " 14.82812342 14.06970518 15.88349577 14.25419432 14.73667577 15.03744178\n",
      " 14.70591325 15.10835474 15.32362026 15.28802938 14.67973843 14.39912442\n",
      " 15.37441009 14.83941125 13.77914945 15.93988058 14.04702084 14.44203393\n",
      " 13.15325063 15.07974509 13.60028247 15.0230653  14.53589716 13.6020317\n",
      " 11.06241601 13.96605611 11.82692171 14.40355874 14.29483788 14.38991086\n",
      " 14.38161102 15.32808066 13.9390437  14.57628743 14.00471333 15.00644044\n",
      " 15.03508022 14.11722778 14.82744264 14.23106655 14.72515239 14.64372909\n",
      " 16.10104151 14.22491451 13.71218643 14.06001462 14.50701859 13.81887101\n",
      " 14.80454427 14.37461771 12.95457163 14.79924421 14.8343714  14.94447574\n",
      " 15.3014856  15.27874313 14.46929892 14.32799853 15.13414474 15.12057506\n",
      " 15.16310551 14.4180881  14.57842979 14.47026797 14.60330628 14.50135692\n",
      " 14.97265974 15.85870697 14.62742185 14.60666607 11.30300564 14.44812608\n",
      " 16.31505082 14.45633606 13.97210115 14.89406714]\n"
     ]
    }
   ],
   "source": [
    "print(predictions)"
   ]
  },
  {
   "cell_type": "code",
   "execution_count": 30,
   "id": "0459430d-26a7-4ae0-acdb-4b6abc824e90",
   "metadata": {},
   "outputs": [
    {
     "name": "stdout",
     "output_type": "stream",
     "text": [
      "RMSE for a test set is :  1.3964397018563495\n"
     ]
    }
   ],
   "source": [
    "from sklearn import metrics\n",
    "RMSE_test =np.sqrt(metrics.mean_squared_error(y_test,predictions))\n",
    "print('RMSE for a test set is : ',RMSE_test)"
   ]
  },
  {
   "cell_type": "markdown",
   "id": "6f2625e2-bc50-4316-8040-324d2dc1c10a",
   "metadata": {},
   "source": [
    "#Now we shall use PCA to try and get predictions in lesser time"
   ]
  },
  {
   "cell_type": "code",
   "execution_count": 31,
   "id": "f0da382c-6fdd-4ce7-992b-30bd04ed567f",
   "metadata": {},
   "outputs": [],
   "source": [
    "from sklearn.decomposition import PCA"
   ]
  },
  {
   "cell_type": "code",
   "execution_count": 32,
   "id": "5f1caf27-5558-4df1-8cb3-04ec046ba4ce",
   "metadata": {},
   "outputs": [],
   "source": [
    "pca = PCA(0.95 , random_state =0).fit(X) #here , we are specifying 95 percent of the variance to be explained by the PC's"
   ]
  },
  {
   "cell_type": "code",
   "execution_count": 33,
   "id": "83936159-a548-4f8a-8b51-63b50b0a9a80",
   "metadata": {},
   "outputs": [],
   "source": [
    "var = np.cumsum(np.round(pca.explained_variance_ratio_,decimals=3)*100) #we plot the explained variance of our PCA model"
   ]
  },
  {
   "cell_type": "code",
   "execution_count": 34,
   "id": "e5340e4f-67d3-4cd8-b863-8e329dce2be2",
   "metadata": {},
   "outputs": [
    {
     "data": {
      "text/plain": [
       "<contextlib._GeneratorContextManager at 0x1cae6a31410>"
      ]
     },
     "execution_count": 34,
     "metadata": {},
     "output_type": "execute_result"
    },
    {
     "data": {
      "image/png": "[encoded data removed]",
      "text/plain": [
       "<Figure size 640x480 with 1 Axes>"
      ]
     },
     "metadata": {},
     "output_type": "display_data"
    }
   ],
   "source": [
    "plt.plot(var)\n",
    "plt.ylabel('% Variance Explained')\n",
    "plt.xlabel('Number of Principal components')\n",
    "plt.title('PCA Analysis')\n",
    "plt.ylim(30, 100.5)\n",
    "plt.style.context('seaborn-whitegrid')"
   ]
  },
  {
   "cell_type": "code",
   "execution_count": 35,
   "id": "080c0588-c24e-4284-ad74-625d3a331250",
   "metadata": {},
   "outputs": [
    {
     "name": "stdout",
     "output_type": "stream",
     "text": [
      "602 components explain 95% of the variation in data\n"
     ]
    }
   ],
   "source": [
    "#so, 95% variance is explained by the first 600 principle components\n",
    "print('%d components explain 95%% of the variation in data' % pca.n_components_)\n"
   ]
  },
  {
   "cell_type": "code",
   "execution_count": 36,
   "id": "8be2306e-ae19-4188-9834-ac01b5f012ca",
   "metadata": {},
   "outputs": [
    {
     "name": "stdout",
     "output_type": "stream",
     "text": [
      "(4459, 602)\n"
     ]
    }
   ],
   "source": [
    "#now we build a new pca model that takes in the first 602 PC's as features to predict\n",
    "#so from the earlier 4900 , we used 4700(removing one's with no std dev) and then now we use 602 pc's finally while applying pca\n",
    "pca = PCA(n_components=602,random_state=0)\n",
    "pca.fit(X)\n",
    "X =pca.transform(X)\n",
    "print(X.shape)"
   ]
  },
  {
   "cell_type": "code",
   "execution_count": 37,
   "id": "7747ed04-1183-45ab-85cf-d1a24bf5d717",
   "metadata": {},
   "outputs": [],
   "source": [
    "from sklearn.model_selection import train_test_split\n",
    "X_train, X_test, y_train, y_test = train_test_split(X, y, test_size=0.2, random_state=1)"
   ]
  },
  {
   "cell_type": "code",
   "execution_count": 38,
   "id": "c914ab8a-2f98-453d-a9a0-f3c19eba646b",
   "metadata": {},
   "outputs": [
    {
     "name": "stdout",
     "output_type": "stream",
     "text": [
      "(3567, 602)\n",
      "(892, 602)\n"
     ]
    }
   ],
   "source": [
    "print(X_train.shape)\n",
    "print(X_test.shape)"
   ]
  },
  {
   "cell_type": "code",
   "execution_count": 39,
   "id": "169a5701-bb53-497f-abf2-8200d8ee18bf",
   "metadata": {},
   "outputs": [
    {
     "name": "stdout",
     "output_type": "stream",
     "text": [
      "CPU times: total: 3min 18s\n",
      "Wall time: 3min 26s\n"
     ]
    },
    {
     "data": {
      "text/html": [
       "<style>#sk-container-id-2 {color: black;background-color: white;}#sk-container-id-2 pre{padding: 0;}#sk-container-id-2 div.sk-toggleable {background-color: white;}#sk-container-id-2 label.sk-toggleable__label {cursor: pointer;display: block;width: 100%;margin-bottom: 0;padding: 0.3em;box-sizing: border-box;text-align: center;}#sk-container-id-2 label.sk-toggleable__label-arrow:before {content: \"▸\";float: left;margin-right: 0.25em;color: #696969;}#sk-container-id-2 label.sk-toggleable__label-arrow:hover:before {color: black;}#sk-container-id-2 div.sk-estimator:hover label.sk-toggleable__label-arrow:before {color: black;}#sk-container-id-2 div.sk-toggleable__content {max-height: 0;max-width: 0;overflow: hidden;text-align: left;background-color: #f0f8ff;}#sk-container-id-2 div.sk-toggleable__content pre {margin: 0.2em;color: black;border-radius: 0.25em;background-color: #f0f8ff;}#sk-container-id-2 input.sk-toggleable__control:checked~div.sk-toggleable__content {max-height: 200px;max-width: 100%;overflow: auto;}#sk-container-id-2 input.sk-toggleable__control:checked~label.sk-toggleable__label-arrow:before {content: \"▾\";}#sk-container-id-2 div.sk-estimator input.sk-toggleable__control:checked~label.sk-toggleable__label {background-color: #d4ebff;}#sk-container-id-2 div.sk-label input.sk-toggleable__control:checked~label.sk-toggleable__label {background-color: #d4ebff;}#sk-container-id-2 input.sk-hidden--visually {border: 0;clip: rect(1px 1px 1px 1px);clip: rect(1px, 1px, 1px, 1px);height: 1px;margin: -1px;overflow: hidden;padding: 0;position: absolute;width: 1px;}#sk-container-id-2 div.sk-estimator {font-family: monospace;background-color: #f0f8ff;border: 1px dotted black;border-radius: 0.25em;box-sizing: border-box;margin-bottom: 0.5em;}#sk-container-id-2 div.sk-estimator:hover {background-color: #d4ebff;}#sk-container-id-2 div.sk-parallel-item::after {content: \"\";width: 100%;border-bottom: 1px solid gray;flex-grow: 1;}#sk-container-id-2 div.sk-label:hover label.sk-toggleable__label {background-color: #d4ebff;}#sk-container-id-2 div.sk-serial::before {content: \"\";position: absolute;border-left: 1px solid gray;box-sizing: border-box;top: 0;bottom: 0;left: 50%;z-index: 0;}#sk-container-id-2 div.sk-serial {display: flex;flex-direction: column;align-items: center;background-color: white;padding-right: 0.2em;padding-left: 0.2em;position: relative;}#sk-container-id-2 div.sk-item {position: relative;z-index: 1;}#sk-container-id-2 div.sk-parallel {display: flex;align-items: stretch;justify-content: center;background-color: white;position: relative;}#sk-container-id-2 div.sk-item::before, #sk-container-id-2 div.sk-parallel-item::before {content: \"\";position: absolute;border-left: 1px solid gray;box-sizing: border-box;top: 0;bottom: 0;left: 50%;z-index: -1;}#sk-container-id-2 div.sk-parallel-item {display: flex;flex-direction: column;z-index: 1;position: relative;background-color: white;}#sk-container-id-2 div.sk-parallel-item:first-child::after {align-self: flex-end;width: 50%;}#sk-container-id-2 div.sk-parallel-item:last-child::after {align-self: flex-start;width: 50%;}#sk-container-id-2 div.sk-parallel-item:only-child::after {width: 0;}#sk-container-id-2 div.sk-dashed-wrapped {border: 1px dashed gray;margin: 0 0.4em 0.5em 0.4em;box-sizing: border-box;padding-bottom: 0.4em;background-color: white;}#sk-container-id-2 div.sk-label label {font-family: monospace;font-weight: bold;display: inline-block;line-height: 1.2em;}#sk-container-id-2 div.sk-label-container {text-align: center;}#sk-container-id-2 div.sk-container {/* jupyter's `normalize.less` sets `[hidden] { display: none; }` but bootstrap.min.css set `[hidden] { display: none !important; }` so we also need the `!important` here to be able to override the default hidden behavior on the sphinx rendered scikit-learn.org. See: https://github.com/scikit-learn/scikit-learn/issues/21755 */display: inline-block !important;position: relative;}#sk-container-id-2 div.sk-text-repr-fallback {display: none;}</style><div id=\"sk-container-id-2\" class=\"sk-top-container\"><div class=\"sk-text-repr-fallback\"><pre>RandomForestRegressor(random_state=0)</pre><b>In a Jupyter environment, please rerun this cell to show the HTML representation or trust the notebook. <br />On GitHub, the HTML representation is unable to render, please try loading this page with nbviewer.org.</b></div><div class=\"sk-container\" hidden><div class=\"sk-item\"><div class=\"sk-estimator sk-toggleable\"><input class=\"sk-toggleable__control sk-hidden--visually\" id=\"sk-estimator-id-2\" type=\"checkbox\" checked><label for=\"sk-estimator-id-2\" class=\"sk-toggleable__label sk-toggleable__label-arrow\">RandomForestRegressor</label><div class=\"sk-toggleable__content\"><pre>RandomForestRegressor(random_state=0)</pre></div></div></div></div></div>"
      ],
      "text/plain": [
       "RandomForestRegressor(random_state=0)"
      ]
     },
     "execution_count": 39,
     "metadata": {},
     "output_type": "execute_result"
    }
   ],
   "source": [
    "%%time \n",
    "rf = RandomForestRegressor(random_state=0)\n",
    "rf.fit(X_train, y_train)"
   ]
  },
  {
   "cell_type": "code",
   "execution_count": 40,
   "id": "282ce3da-37e3-4a5e-9802-cec12d1d5dc7",
   "metadata": {},
   "outputs": [],
   "source": [
    "predictions_pca=rf.predict(X_test)"
   ]
  },
  {
   "cell_type": "code",
   "execution_count": 41,
   "id": "73814d56-3537-42be-a4f9-033c3a9bde82",
   "metadata": {},
   "outputs": [
    {
     "data": {
      "text/plain": [
       "array([14.86963647, 14.51505519, 13.83045677, 14.77021866, 14.38956602,\n",
       "       13.40341761, 14.52276121, 15.4161659 , 14.05351193, 15.12063969,\n",
       "       15.08666533, 14.80293692, 14.42380603, 14.73019688, 14.78730785,\n",
       "       14.43577883, 14.87927389, 15.16019776, 14.15788266, 15.18251055,\n",
       "       14.92111156, 14.90405959, 14.22011926, 13.69965503, 14.04561694,\n",
       "       15.99050901, 14.59622575, 12.80718464, 14.68392128, 14.16228594,\n",
       "       13.81556655, 14.4496948 , 14.26954921, 13.26719684, 14.05469218,\n",
       "       14.05318882, 15.33414659, 14.4912507 , 14.73439255, 12.82653326,\n",
       "       14.88127128, 15.90828824, 15.11618977, 13.8533085 , 13.9644249 ,\n",
       "       14.49007436, 15.11602851, 14.43523365, 14.03053623, 14.94549049,\n",
       "       15.22212004, 13.44936504, 14.5709322 , 14.70100069, 12.80730984,\n",
       "       15.40825036, 14.92136435, 12.68301164, 14.4371284 , 14.70254534,\n",
       "       14.61908455, 13.14967542, 14.58799125, 12.99673592, 14.53822541,\n",
       "       14.39014196, 13.43902898, 13.39790346, 14.82553683, 14.55732694,\n",
       "       14.98250302, 13.30847905, 13.64531575, 15.15410718, 14.11962513,\n",
       "       14.39731959, 17.22573278, 14.76763661, 14.94844479, 15.9951451 ,\n",
       "       14.64368896, 14.81260393, 14.76974652, 14.82950772, 13.53236983,\n",
       "       12.51975959, 13.54300374, 14.21092572, 14.64717702, 15.18095327,\n",
       "       13.43410873, 15.22802529, 14.46682988, 15.91617632, 14.09811516,\n",
       "       14.75264839, 14.13846087, 13.11671825, 14.81919148, 14.18339443,\n",
       "       14.73545457, 15.27483835, 14.42580442, 14.9547729 , 14.53629798,\n",
       "       14.77895888, 12.61472144, 14.22832258, 14.85311168, 14.60385729,\n",
       "       14.03551303, 13.80234409, 14.37847685, 14.96687482, 14.28350236,\n",
       "       14.79204707, 14.20825326, 14.69014846, 14.92593196, 12.89252906,\n",
       "       14.66287767, 14.97153287, 15.01503329, 14.79846432, 14.82690625,\n",
       "       13.94532886, 14.5985089 , 13.76465719, 15.0761554 , 14.7524157 ,\n",
       "       13.12146211, 17.00141323, 14.13593324, 14.6225124 , 13.86397424,\n",
       "       14.74573581, 13.66241592, 14.78709843, 14.9630091 , 15.81385713,\n",
       "       13.44452255, 13.57679044, 14.62858587, 14.27878484, 14.79878686,\n",
       "       14.83955221, 14.88434019, 13.09344997, 12.97912379, 14.84722652,\n",
       "       14.49507679, 14.38823266, 14.84212168, 14.34313619, 13.41456529,\n",
       "       14.21207558, 14.42506644, 13.70005807, 14.94528502, 14.26179909,\n",
       "       15.01118429, 13.45799921, 14.95149426, 14.77950373, 14.67265839,\n",
       "       15.0606159 , 14.76467365, 12.86006396, 14.73133981, 14.81225443,\n",
       "       12.83100246, 14.12140114, 14.77658648, 14.80237023, 15.13104342,\n",
       "       14.65973075, 14.39228611, 14.39071348, 13.16707216, 15.14423073,\n",
       "       14.67457208, 13.36054585, 14.74674029, 14.56783468, 15.16987376,\n",
       "       13.91256806, 14.87813712, 14.93425711, 14.49166865, 14.6155788 ,\n",
       "       16.19718832, 14.61915304, 14.35322994, 16.09477319, 14.30229853,\n",
       "       14.32667294, 15.06327859, 14.63259959, 14.61620921, 14.80696493,\n",
       "       13.53102101, 13.39814742, 13.39680884, 14.4595551 , 14.92831604,\n",
       "       15.09998229, 14.89113305, 14.47697976, 13.16603563, 14.51313107,\n",
       "       14.37605828, 15.06771285, 14.76373872, 14.89050203, 14.39766366,\n",
       "       14.54672881, 14.13323521, 14.94924232, 14.7323049 , 15.27832878,\n",
       "       14.99830752, 14.27766877, 13.83383589, 14.49429181, 16.46218016,\n",
       "       14.393308  , 14.85149294, 15.04378335, 13.26094064, 13.77317423,\n",
       "       14.78591086, 13.46663231, 13.69760166, 13.94868664, 16.06468878,\n",
       "       14.95918515, 14.74928236, 15.05513084, 14.77736828, 15.49241074,\n",
       "       14.30184896, 14.45061645, 13.23208013, 15.52636361, 14.83535762,\n",
       "       14.66427415, 14.3366498 , 13.7962553 , 14.900498  , 13.77374737,\n",
       "       14.39832375, 13.26933469, 14.5203197 , 14.75099429, 14.3507294 ,\n",
       "       12.62502352, 14.90486251, 15.12755163, 14.96334209, 13.34700141,\n",
       "       14.26106225, 14.46290655, 14.50496083, 13.43776076, 14.37198518,\n",
       "       14.40898824, 15.09149524, 14.73967431, 15.64598784, 13.80541971,\n",
       "       14.31985006, 14.21217935, 14.91789842, 13.88128742, 14.52920268,\n",
       "       14.44179587, 14.79333446, 14.70314271, 15.01024212, 14.42168852,\n",
       "       13.50003518, 14.62445457, 14.26276445, 12.75263397, 13.10481801,\n",
       "       15.2568485 , 12.83098417, 14.99228166, 14.78331291, 15.83925044,\n",
       "       15.04345834, 14.63427138, 13.77616251, 14.89355466, 13.13166495,\n",
       "       15.18791041, 14.34362674, 14.46020681, 12.70801467, 14.58226518,\n",
       "       15.62331808, 15.28094611, 14.38090827, 13.94381086, 14.73341826,\n",
       "       13.97886076, 14.60761606, 15.03679418, 12.91919384, 13.77894639,\n",
       "       14.42638403, 15.42259211, 14.92159666, 13.12819896, 15.18266946,\n",
       "       13.46163454, 14.24846304, 15.01029596, 14.19357258, 12.40544944,\n",
       "       15.12100627, 13.96547988, 15.0666896 , 14.66857301, 14.88286207,\n",
       "       14.38535064, 14.51310487, 14.70076186, 14.24683043, 14.82526706,\n",
       "       15.14821357, 15.59354605, 14.82363041, 14.75302971, 14.55992271,\n",
       "       14.85658623, 14.54916098, 15.19282992, 13.44628808, 13.68161132,\n",
       "       14.95871938, 14.7372004 , 12.02624521, 14.58106423, 14.33510284,\n",
       "       14.84397404, 14.92357878, 12.90407509, 14.88163564, 13.93285052,\n",
       "       13.30882827, 14.73411708, 14.8773008 , 14.94710956, 15.38496977,\n",
       "       14.70526443, 14.81945528, 14.70549368, 15.14844359, 12.18388057,\n",
       "       13.56019327, 15.35436321, 13.14266009, 14.56137532, 14.09825588,\n",
       "       14.87146547, 14.10869284, 15.06902301, 14.08237326, 14.90374618,\n",
       "       15.39188712, 14.65779598, 14.63404621, 14.7569348 , 15.05607623,\n",
       "       15.09661235, 14.74665323, 13.30280545, 14.95349773, 14.38226265,\n",
       "       14.81352452, 14.60113057, 14.03916619, 13.66220696, 14.98782386,\n",
       "       14.3834678 , 15.25303662, 14.12222762, 13.58656913, 14.40047773,\n",
       "       14.32469816, 15.3793182 , 14.52995471, 15.0223733 , 15.2322964 ,\n",
       "       14.34031909, 14.63077893, 14.6035849 , 14.95213292, 14.72321984,\n",
       "       15.03904129, 13.07535003, 14.96991709, 14.66937663, 14.97772067,\n",
       "       13.86860292, 13.32375118, 13.44787576, 15.77675546, 15.57366757,\n",
       "       14.61898429, 14.38501028, 15.13599851, 15.55011935, 14.58920978,\n",
       "       14.40094457, 14.57991468, 13.73074492, 14.97705414, 13.08885753,\n",
       "       17.17480364, 14.97524122, 13.75138384, 13.44054399, 14.37973056,\n",
       "       14.82866389, 12.64731613, 13.84649512, 15.056553  , 12.28304753,\n",
       "       15.06498506, 15.00595741, 15.000126  , 13.92581424, 14.57855037,\n",
       "       14.7979431 , 13.68466119, 14.96209799, 14.95113852, 14.20247429,\n",
       "       14.53880128, 15.12660941, 14.66012417, 14.93603099, 17.11399598,\n",
       "       14.62878271, 13.90152016, 14.43817289, 13.58567563, 14.6017541 ,\n",
       "       14.81059362, 15.27767565, 14.79564183, 15.13224247, 13.08451363,\n",
       "       14.50709556, 13.98848198, 13.98500408, 14.49915095, 13.4443253 ,\n",
       "       13.7531364 , 14.36543808, 13.8133401 , 14.58758415, 14.78527059,\n",
       "       14.79781859, 15.04320353, 12.83058332, 15.17895398, 13.67674994,\n",
       "       13.03839092, 14.75405273, 14.60457654, 14.19420237, 12.9577007 ,\n",
       "       14.26156362, 13.53520609, 13.61861143, 14.75742405, 16.87721669,\n",
       "       14.17144261, 12.90762326, 13.81140844, 14.45277109, 14.45999752,\n",
       "       15.31967492, 14.66070483, 14.37953914, 15.13484821, 13.05677604,\n",
       "       14.60508033, 14.50977545, 13.23661887, 15.06186319, 14.55594865,\n",
       "       14.28018807, 13.22200886, 15.08638847, 14.61591238, 13.55710419,\n",
       "       13.84437056, 14.70129829, 15.01668225, 14.03287941, 14.93953086,\n",
       "       14.63280397, 14.34490841, 14.72471548, 14.26958928, 13.23977543,\n",
       "       14.93402816, 15.35557922, 14.80992994, 14.73258357, 14.80653119,\n",
       "       13.54692671, 14.85117623, 13.91455027, 14.60296742, 14.70223209,\n",
       "       13.95073325, 13.69091481, 13.44240479, 15.18054056, 13.22286689,\n",
       "       13.50418802, 14.15387028, 14.01409468, 14.79831201, 14.5472441 ,\n",
       "       14.18626228, 13.80525701, 12.3779433 , 14.74203189, 13.25062356,\n",
       "       17.09339886, 15.26310494, 16.89282797, 14.69005851, 14.75151484,\n",
       "       14.81082232, 14.24898627, 14.29237832, 14.52945511, 13.46395402,\n",
       "       14.31203955, 14.62797126, 12.89171944, 12.08794236, 14.05993595,\n",
       "       13.63393271, 14.25771716, 14.70979654, 13.87508   , 14.94417864,\n",
       "       12.76067696, 14.96243299, 15.06950704, 13.72139889, 14.54265096,\n",
       "       14.19652484, 13.40951615, 13.739487  , 14.06372469, 14.48122923,\n",
       "       14.85390683, 14.74893074, 14.6446191 , 13.95982474, 14.84481356,\n",
       "       14.37248608, 15.1845389 , 14.83973254, 14.89053468, 14.99774987,\n",
       "       13.9226488 , 13.38713372, 14.43277042, 14.51584043, 14.5856837 ,\n",
       "       14.91751423, 14.91019859, 13.23497893, 13.17599792, 14.71804178,\n",
       "       14.59697647, 14.89824658, 13.44611482, 13.19042081, 13.31645037,\n",
       "       14.39438093, 13.40949765, 14.72466913, 14.02425912, 14.76872585,\n",
       "       14.89079036, 14.25697562, 14.71197717, 14.52740433, 14.83400744,\n",
       "       14.28156438, 13.64548571, 14.09262555, 14.68833012, 14.25245974,\n",
       "       14.63914141, 14.68442139, 14.83423135, 15.30989247, 14.00813284,\n",
       "       15.48328866, 14.658693  , 14.7392952 , 12.92637325, 15.03366163,\n",
       "       15.24006462, 14.47008733, 14.26735399, 12.56517552, 15.17949686,\n",
       "       13.89195614, 14.5168105 , 14.75180273, 14.41320179, 14.0397749 ,\n",
       "       14.67592577, 14.74982263, 14.60600983, 14.64430426, 13.88581522,\n",
       "       14.78000381, 14.99461339, 14.73573612, 14.90963956, 14.64727012,\n",
       "       14.03935579, 13.00685505, 15.10702408, 13.92082788, 13.43724683,\n",
       "       14.55480979, 15.12181326, 14.38673699, 14.7867621 , 12.77505065,\n",
       "       12.42971845, 14.69737744, 14.87884335, 13.90582916, 17.07821479,\n",
       "       14.6428705 , 14.77785828, 14.05196686, 14.91076009, 14.6807387 ,\n",
       "       15.01240796, 14.71874329, 14.75570233, 14.56267007, 14.48013711,\n",
       "       14.0050164 , 14.09121041, 14.68512842, 13.81065356, 14.66776034,\n",
       "       14.89512132, 12.68316765, 14.96509234, 13.93336476, 13.44566391,\n",
       "       14.81559244, 14.76445469, 14.40330853, 12.47637856, 14.77094054,\n",
       "       13.77387344, 13.57829324, 13.358371  , 15.22981023, 14.62130819,\n",
       "       14.14703787, 14.41735062, 14.70181614, 14.36877687, 14.12181242,\n",
       "       13.62482516, 14.5028908 , 13.85991697, 14.01399272, 14.76809745,\n",
       "       14.6750815 , 14.95437292, 16.11715444, 14.86614501, 14.60615013,\n",
       "       12.5114934 , 14.78451185, 14.65027473, 15.02239579, 14.66061548,\n",
       "       14.9931872 , 14.93312554, 14.74426886, 14.82469075, 14.50844058,\n",
       "       14.91320175, 15.61910887, 14.81877926, 14.25243974, 12.98168596,\n",
       "       13.51015805, 14.46476106, 14.28408321, 14.90889099, 15.08700643,\n",
       "       14.89846168, 15.17942673, 14.6587752 , 14.56534723, 14.60139333,\n",
       "       13.18196133, 14.96013394, 15.74939428, 12.53155768, 13.73550495,\n",
       "       14.1941608 , 12.89417564, 13.85057365, 14.55571056, 15.04253804,\n",
       "       14.44617116, 14.71351048, 13.62628606, 14.97143982, 15.05588668,\n",
       "       14.38169026, 13.33140812, 14.71690174, 14.50420583, 14.45851901,\n",
       "       15.06948588, 15.45104689, 12.98464034, 14.51841353, 14.84823616,\n",
       "       14.60726511, 14.4068543 , 14.84294881, 14.70374242, 13.45368206,\n",
       "       13.68967806, 14.76108273, 13.77551985, 14.69464429, 14.89675295,\n",
       "       15.18272194, 14.9935202 , 12.52812846, 14.58452215, 14.63944529,\n",
       "       15.29510839, 14.95926813, 12.99002152, 14.95402727, 14.54136485,\n",
       "       13.53265254, 15.05576282, 14.55286453, 14.82062451, 13.58602552,\n",
       "       14.97266153, 15.08510544, 12.98251425, 14.15395114, 14.61007894,\n",
       "       13.26262679, 13.81529221, 14.83603848, 14.07730367, 14.60975025,\n",
       "       13.5374861 , 14.45520948, 14.15888481, 14.11175273, 13.26689242,\n",
       "       14.54127113, 15.06320305, 12.86715667, 14.37644278, 15.05542438,\n",
       "       12.89910302, 13.78842167, 14.36250532, 13.60493443, 13.96637675,\n",
       "       14.72419852, 15.28772673, 14.14707105, 14.11526429, 12.68104607,\n",
       "       14.96187789, 14.61972923, 14.20432616, 13.74611019, 14.32669642,\n",
       "       15.38512918, 14.6376222 , 15.27352138, 14.97394524, 14.42473914,\n",
       "       14.64951138, 14.65728338, 14.57680886, 13.19392894, 13.9224619 ,\n",
       "       14.49236883, 14.72231248, 13.44054389, 14.85204471, 14.5257006 ,\n",
       "       14.95481155, 15.09400095, 14.49073854, 15.19213213, 14.87415334,\n",
       "       15.22740371, 14.87613688, 14.32892222, 14.80212542, 14.83857781,\n",
       "       14.68772093, 14.83470596, 14.70100858, 14.87654457, 13.01050153,\n",
       "       15.09151494, 14.1128284 , 15.00330323, 13.66762165, 15.01067479,\n",
       "       10.93912648, 13.23465178, 11.77321424, 14.63399867, 14.76321593,\n",
       "       15.23781907, 14.20168191, 14.60689364, 13.82694282, 14.65164944,\n",
       "       15.13915174, 15.0159728 , 14.94412266, 12.78663392, 14.29074093,\n",
       "       14.57968436, 15.18835343, 14.55084656, 15.38110704, 14.34201287,\n",
       "       13.81506521, 13.25029254, 14.70818537, 14.25312007, 14.54958914,\n",
       "       14.99576627, 13.90918496, 13.76081599, 13.80752722, 14.90441918,\n",
       "       14.31868107, 15.29736526, 15.05108011, 14.67586297, 14.5815939 ,\n",
       "       15.18730272, 15.20736487, 13.30912185, 14.65717528, 14.67574017,\n",
       "       14.59058192, 14.68731923, 15.12762833, 14.5463874 , 13.26400308,\n",
       "       14.67606041, 12.19181601, 14.63594678, 15.7208468 , 13.36540465,\n",
       "       13.78313084, 14.9218395 ])"
      ]
     },
     "execution_count": 41,
     "metadata": {},
     "output_type": "execute_result"
    }
   ],
   "source": [
    "predictions_pca"
   ]
  },
  {
   "cell_type": "code",
   "execution_count": 42,
   "id": "c8ea0dd3-8928-4f41-99a4-ed6e876047f1",
   "metadata": {},
   "outputs": [
    {
     "name": "stdout",
     "output_type": "stream",
     "text": [
      "RMSE for test set is 1.5120635539597702\n"
     ]
    }
   ],
   "source": [
    "RMSE_test = np.sqrt(metrics.mean_squared_error(y_test, predictions_pca))\n",
    "print('RMSE for test set is {}'.format(RMSE_test))"
   ]
  },
  {
   "cell_type": "code",
   "execution_count": 43,
   "id": "991fb2ba-6455-4c7f-8b4b-023042df55f9",
   "metadata": {},
   "outputs": [
    {
     "name": "stdout",
     "output_type": "stream",
     "text": [
      "(4459, 300)\n"
     ]
    }
   ],
   "source": [
    "#We had observed that beyond 300 features the percentage captured variance remains constant, so we use only the first 300 components\n",
    "pca_2 = PCA(n_components=300,random_state=0)\n",
    "pca_2.fit(X)\n",
    "X =pca_2.transform(X)\n",
    "print(X.shape)"
   ]
  },
  {
   "cell_type": "code",
   "execution_count": 44,
   "id": "81510bf4-a301-4865-ab07-0b78e3daae18",
   "metadata": {},
   "outputs": [],
   "source": [
    "from sklearn.model_selection import train_test_split\n",
    "X_train, X_test, y_train, y_test = train_test_split(X, y, test_size=0.2, random_state=1)"
   ]
  },
  {
   "cell_type": "code",
   "execution_count": 45,
   "id": "69751c28-2e3d-4abc-8139-3833ae1560ab",
   "metadata": {},
   "outputs": [
    {
     "name": "stdout",
     "output_type": "stream",
     "text": [
      "(3567, 300)\n",
      "(892, 300)\n"
     ]
    }
   ],
   "source": [
    "print(X_train.shape)\n",
    "print(X_test.shape)"
   ]
  },
  {
   "cell_type": "code",
   "execution_count": 46,
   "id": "508dfcc0-e883-4183-981e-0d400a96e6d7",
   "metadata": {},
   "outputs": [
    {
     "name": "stdout",
     "output_type": "stream",
     "text": [
      "CPU times: total: 1min 42s\n",
      "Wall time: 1min 48s\n"
     ]
    },
    {
     "data": {
      "text/html": [
       "<style>#sk-container-id-3 {color: black;background-color: white;}#sk-container-id-3 pre{padding: 0;}#sk-container-id-3 div.sk-toggleable {background-color: white;}#sk-container-id-3 label.sk-toggleable__label {cursor: pointer;display: block;width: 100%;margin-bottom: 0;padding: 0.3em;box-sizing: border-box;text-align: center;}#sk-container-id-3 label.sk-toggleable__label-arrow:before {content: \"▸\";float: left;margin-right: 0.25em;color: #696969;}#sk-container-id-3 label.sk-toggleable__label-arrow:hover:before {color: black;}#sk-container-id-3 div.sk-estimator:hover label.sk-toggleable__label-arrow:before {color: black;}#sk-container-id-3 div.sk-toggleable__content {max-height: 0;max-width: 0;overflow: hidden;text-align: left;background-color: #f0f8ff;}#sk-container-id-3 div.sk-toggleable__content pre {margin: 0.2em;color: black;border-radius: 0.25em;background-color: #f0f8ff;}#sk-container-id-3 input.sk-toggleable__control:checked~div.sk-toggleable__content {max-height: 200px;max-width: 100%;overflow: auto;}#sk-container-id-3 input.sk-toggleable__control:checked~label.sk-toggleable__label-arrow:before {content: \"▾\";}#sk-container-id-3 div.sk-estimator input.sk-toggleable__control:checked~label.sk-toggleable__label {background-color: #d4ebff;}#sk-container-id-3 div.sk-label input.sk-toggleable__control:checked~label.sk-toggleable__label {background-color: #d4ebff;}#sk-container-id-3 input.sk-hidden--visually {border: 0;clip: rect(1px 1px 1px 1px);clip: rect(1px, 1px, 1px, 1px);height: 1px;margin: -1px;overflow: hidden;padding: 0;position: absolute;width: 1px;}#sk-container-id-3 div.sk-estimator {font-family: monospace;background-color: #f0f8ff;border: 1px dotted black;border-radius: 0.25em;box-sizing: border-box;margin-bottom: 0.5em;}#sk-container-id-3 div.sk-estimator:hover {background-color: #d4ebff;}#sk-container-id-3 div.sk-parallel-item::after {content: \"\";width: 100%;border-bottom: 1px solid gray;flex-grow: 1;}#sk-container-id-3 div.sk-label:hover label.sk-toggleable__label {background-color: #d4ebff;}#sk-container-id-3 div.sk-serial::before {content: \"\";position: absolute;border-left: 1px solid gray;box-sizing: border-box;top: 0;bottom: 0;left: 50%;z-index: 0;}#sk-container-id-3 div.sk-serial {display: flex;flex-direction: column;align-items: center;background-color: white;padding-right: 0.2em;padding-left: 0.2em;position: relative;}#sk-container-id-3 div.sk-item {position: relative;z-index: 1;}#sk-container-id-3 div.sk-parallel {display: flex;align-items: stretch;justify-content: center;background-color: white;position: relative;}#sk-container-id-3 div.sk-item::before, #sk-container-id-3 div.sk-parallel-item::before {content: \"\";position: absolute;border-left: 1px solid gray;box-sizing: border-box;top: 0;bottom: 0;left: 50%;z-index: -1;}#sk-container-id-3 div.sk-parallel-item {display: flex;flex-direction: column;z-index: 1;position: relative;background-color: white;}#sk-container-id-3 div.sk-parallel-item:first-child::after {align-self: flex-end;width: 50%;}#sk-container-id-3 div.sk-parallel-item:last-child::after {align-self: flex-start;width: 50%;}#sk-container-id-3 div.sk-parallel-item:only-child::after {width: 0;}#sk-container-id-3 div.sk-dashed-wrapped {border: 1px dashed gray;margin: 0 0.4em 0.5em 0.4em;box-sizing: border-box;padding-bottom: 0.4em;background-color: white;}#sk-container-id-3 div.sk-label label {font-family: monospace;font-weight: bold;display: inline-block;line-height: 1.2em;}#sk-container-id-3 div.sk-label-container {text-align: center;}#sk-container-id-3 div.sk-container {/* jupyter's `normalize.less` sets `[hidden] { display: none; }` but bootstrap.min.css set `[hidden] { display: none !important; }` so we also need the `!important` here to be able to override the default hidden behavior on the sphinx rendered scikit-learn.org. See: https://github.com/scikit-learn/scikit-learn/issues/21755 */display: inline-block !important;position: relative;}#sk-container-id-3 div.sk-text-repr-fallback {display: none;}</style><div id=\"sk-container-id-3\" class=\"sk-top-container\"><div class=\"sk-text-repr-fallback\"><pre>RandomForestRegressor(random_state=0)</pre><b>In a Jupyter environment, please rerun this cell to show the HTML representation or trust the notebook. <br />On GitHub, the HTML representation is unable to render, please try loading this page with nbviewer.org.</b></div><div class=\"sk-container\" hidden><div class=\"sk-item\"><div class=\"sk-estimator sk-toggleable\"><input class=\"sk-toggleable__control sk-hidden--visually\" id=\"sk-estimator-id-3\" type=\"checkbox\" checked><label for=\"sk-estimator-id-3\" class=\"sk-toggleable__label sk-toggleable__label-arrow\">RandomForestRegressor</label><div class=\"sk-toggleable__content\"><pre>RandomForestRegressor(random_state=0)</pre></div></div></div></div></div>"
      ],
      "text/plain": [
       "RandomForestRegressor(random_state=0)"
      ]
     },
     "execution_count": 46,
     "metadata": {},
     "output_type": "execute_result"
    }
   ],
   "source": [
    "%%time                    \n",
    "rf_2 = RandomForestRegressor(random_state=0)\n",
    "rf_2.fit(X_train, y_train)"
   ]
  },
  {
   "cell_type": "markdown",
   "id": "844a5cdb-0ed6-44e8-8f35-62d6027c33d5",
   "metadata": {},
   "source": [
    "#so, a much better model as it takes 1 min (compared with 3 min it took before )"
   ]
  },
  {
   "cell_type": "code",
   "execution_count": 47,
   "id": "a452e755-9033-4b4f-9119-6265d710f48e",
   "metadata": {},
   "outputs": [],
   "source": [
    "predictions_pca_2 = rf_2.predict(X_test)"
   ]
  },
  {
   "cell_type": "code",
   "execution_count": 48,
   "id": "d24db300-ea73-4b52-8ab2-2f6202371b55",
   "metadata": {},
   "outputs": [
    {
     "data": {
      "text/plain": [
       "array([14.77164528, 14.58104542, 14.64958131, 14.84197412, 14.04355648,\n",
       "       13.27270865, 14.31125946, 15.29952613, 14.08143477, 15.12265225,\n",
       "       14.96394071, 14.88066273, 14.89775739, 15.04443023, 14.88115206,\n",
       "       14.73824718, 15.04405713, 15.21337281, 14.50280496, 15.18067541,\n",
       "       14.71654973, 14.95448503, 14.1260814 , 13.78298076, 13.55211444,\n",
       "       16.04506324, 14.72515113, 12.63624726, 14.72117872, 13.91263765,\n",
       "       13.68397325, 14.78809258, 14.23078809, 13.78579631, 14.12096855,\n",
       "       14.01995339, 15.20915596, 14.64001706, 14.9443096 , 13.25464292,\n",
       "       14.69561577, 15.38015865, 14.76364521, 13.64349663, 13.81573402,\n",
       "       14.6065007 , 15.21211408, 13.95033467, 14.0456109 , 14.97901612,\n",
       "       15.14409129, 13.14763016, 14.40575725, 14.74267616, 13.30482649,\n",
       "       15.19188243, 14.76359102, 12.69136552, 14.38753913, 14.68775337,\n",
       "       14.37919741, 13.40424547, 14.51469909, 13.80347633, 14.33266955,\n",
       "       14.55523052, 12.98072162, 13.48416214, 14.66353416, 14.7212543 ,\n",
       "       15.14471858, 13.42564929, 13.61392849, 15.34064566, 13.80399278,\n",
       "       14.20933301, 17.22816604, 14.69964497, 14.82801077, 16.2583431 ,\n",
       "       14.47506271, 14.48221697, 14.95351263, 14.99607016, 14.03003154,\n",
       "       12.57390352, 13.64087566, 14.22021974, 14.8396216 , 15.06460533,\n",
       "       13.46911148, 14.76543823, 14.46314379, 15.53342609, 14.56259678,\n",
       "       14.2056151 , 14.19677096, 12.8070882 , 14.69052896, 13.91620271,\n",
       "       14.63360714, 15.28091034, 14.09947036, 15.2829512 , 14.77476103,\n",
       "       15.07778478, 11.69777393, 14.14224792, 14.51824906, 14.61352872,\n",
       "       14.13900292, 13.93491696, 13.78994274, 15.1231519 , 14.22428143,\n",
       "       14.37937627, 13.9292094 , 14.80744521, 14.72718821, 12.59996637,\n",
       "       14.47734185, 14.73217232, 14.89365347, 14.47524197, 14.34964888,\n",
       "       14.01792037, 14.52550965, 14.06377588, 15.13689935, 14.66147451,\n",
       "       12.88433809, 16.97264088, 14.23166243, 14.42477417, 13.97282095,\n",
       "       14.50706222, 13.22969135, 14.76088526, 14.64407059, 15.59683556,\n",
       "       13.75333933, 13.81402312, 14.25032565, 14.39451426, 14.69847434,\n",
       "       14.50242412, 14.68085295, 13.31141026, 12.77265492, 14.40214759,\n",
       "       14.61667997, 14.09969697, 15.11628493, 14.68832391, 13.44855138,\n",
       "       14.14681674, 14.51409873, 13.35846614, 14.56627016, 14.38646153,\n",
       "       15.05904543, 13.98298464, 14.82620169, 14.97086461, 14.61098038,\n",
       "       15.38841003, 14.66146532, 12.56582003, 14.73198637, 14.94534598,\n",
       "       12.84750293, 13.89452962, 14.56302099, 14.72892583, 15.11770176,\n",
       "       15.06091748, 14.23969929, 14.21600392, 12.89021263, 15.07600974,\n",
       "       14.65240399, 13.20203898, 15.14789642, 14.16702468, 15.34199869,\n",
       "       14.00287539, 14.66071883, 14.72843197, 14.80057014, 14.54984718,\n",
       "       16.17989565, 14.56729297, 14.54586056, 16.04519664, 14.37156608,\n",
       "       14.47593709, 14.96024779, 14.94304276, 14.90776115, 14.63420285,\n",
       "       13.9469964 , 13.28800677, 13.53492551, 14.22154874, 14.75743013,\n",
       "       15.17314784, 14.53339004, 15.07783846, 13.59196018, 14.4669353 ,\n",
       "       14.67428104, 15.17281882, 14.70978565, 15.27602685, 14.4197746 ,\n",
       "       14.39189659, 14.27444626, 15.19999628, 14.56739724, 15.35434997,\n",
       "       14.7642217 , 14.22054307, 13.72519574, 14.53930918, 16.40269769,\n",
       "       14.44580633, 14.7784293 , 15.14893788, 13.71737737, 13.6082828 ,\n",
       "       14.8328953 , 13.41430355, 13.83232332, 14.16033284, 16.49478844,\n",
       "       14.90109297, 14.50901253, 14.99138777, 14.83983945, 15.49109676,\n",
       "       14.28855401, 14.40532443, 12.84829982, 15.34743931, 14.69992041,\n",
       "       14.8772093 , 14.52235807, 13.74592993, 14.73254682, 13.74096261,\n",
       "       14.2664324 , 13.16585596, 14.73836655, 14.43905524, 14.28203588,\n",
       "       12.83268109, 14.85298808, 15.26511255, 14.80930797, 13.5266978 ,\n",
       "       14.2421596 , 14.5153347 , 14.74468787, 13.58808596, 14.82667379,\n",
       "       14.37982139, 15.28136413, 14.62200231, 15.72481336, 13.77155802,\n",
       "       14.84108125, 14.4287831 , 14.61394884, 13.64873814, 14.61728969,\n",
       "       14.49841915, 14.76133058, 14.57285891, 15.24082549, 14.44476605,\n",
       "       13.29823567, 14.98275711, 13.97894193, 12.4987189 , 13.34453435,\n",
       "       15.07212286, 12.82825408, 15.09932647, 14.64080485, 16.27458567,\n",
       "       14.98304523, 14.79328246, 13.72597707, 14.90039801, 13.44732738,\n",
       "       14.91939746, 14.4477365 , 14.67618326, 12.31477193, 14.10327564,\n",
       "       15.48001414, 15.25657469, 14.04114876, 14.27262581, 13.96742164,\n",
       "       14.07802487, 14.09807397, 14.97481464, 12.89756454, 13.93885931,\n",
       "       14.81124486, 15.56934023, 14.98732386, 13.10323257, 15.28266485,\n",
       "       12.98011577, 14.56863484, 15.18988052, 14.36881704, 12.58672551,\n",
       "       14.96349572, 13.82378183, 14.9925979 , 14.98047149, 14.86968243,\n",
       "       14.34475096, 14.93266784, 14.84121673, 14.19866355, 14.61594916,\n",
       "       15.18883069, 15.81601402, 14.99969457, 14.91066544, 14.40379675,\n",
       "       14.67167515, 14.57291652, 14.88208736, 13.64625536, 13.12090637,\n",
       "       15.04857497, 14.66626557, 12.1005224 , 14.56506985, 13.83397863,\n",
       "       15.15343651, 14.9034344 , 12.90400097, 14.9472548 , 13.91782228,\n",
       "       13.05101289, 14.54186022, 14.73144362, 15.0958687 , 15.77761953,\n",
       "       14.74000668, 14.807293  , 14.53431966, 14.95276094, 11.96020777,\n",
       "       13.45768548, 15.29768499, 13.4493005 , 14.54980185, 14.00929931,\n",
       "       15.13003819, 14.46382182, 15.12931096, 14.21959009, 15.02721986,\n",
       "       15.13095832, 14.69736066, 14.59596005, 15.11910116, 15.1320389 ,\n",
       "       15.52799255, 14.8316627 , 12.69296017, 15.08107069, 14.30739251,\n",
       "       14.70028505, 14.31875044, 14.4436012 , 14.3008711 , 14.54112034,\n",
       "       14.57035159, 15.1253756 , 14.01782297, 13.27543859, 14.33864043,\n",
       "       14.50631167, 15.14485731, 14.51700636, 14.95422711, 14.72572327,\n",
       "       14.95801769, 14.77876733, 14.66252821, 14.7275904 , 14.46234312,\n",
       "       15.01467596, 13.22639534, 15.02986034, 14.86548353, 14.75757063,\n",
       "       13.62292533, 13.09767272, 13.60516548, 15.95161036, 15.21245327,\n",
       "       14.90642429, 14.33990188, 15.12520437, 15.49097692, 14.42797313,\n",
       "       14.78156213, 14.17212692, 13.59421135, 15.161455  , 13.35366847,\n",
       "       17.14781794, 14.73528073, 13.70050765, 13.53335314, 14.47410657,\n",
       "       15.00860504, 12.52088906, 14.07287275, 14.46166348, 12.04295593,\n",
       "       14.65403661, 14.86593944, 14.72055273, 14.11749874, 14.6974725 ,\n",
       "       14.52331907, 13.94256761, 14.93979375, 14.56086728, 14.11873864,\n",
       "       14.78711906, 15.23354661, 14.60755878, 14.75204958, 17.14891348,\n",
       "       14.87633564, 13.94426965, 14.59658009, 13.71166272, 14.90774169,\n",
       "       14.65124692, 15.99457769, 14.70974868, 15.21741067, 13.2620049 ,\n",
       "       14.61503302, 13.4652137 , 13.928219  , 14.3379847 , 13.83431111,\n",
       "       13.41178467, 13.90329277, 13.56774804, 14.51350823, 15.02731838,\n",
       "       14.68982878, 14.70048913, 12.90991206, 14.79338952, 14.02489553,\n",
       "       13.09582605, 14.49546867, 14.56130494, 14.26130104, 13.19865606,\n",
       "       14.1788424 , 13.64625313, 13.68518815, 15.08902106, 16.84478726,\n",
       "       13.82921631, 12.99283884, 13.76118111, 13.89929591, 14.66667594,\n",
       "       15.06696009, 14.93289843, 14.07780208, 14.96214978, 12.90936811,\n",
       "       14.71727685, 14.80440976, 13.5209017 , 15.15941095, 14.51433786,\n",
       "       14.36254744, 13.18467241, 15.27656353, 15.1182445 , 13.67556555,\n",
       "       13.61721154, 15.00664872, 15.05563874, 13.75012955, 14.88387449,\n",
       "       14.60623406, 14.04791052, 14.89390006, 14.3886834 , 13.17054775,\n",
       "       14.83525026, 14.93651358, 14.79086554, 15.03096706, 14.44003574,\n",
       "       13.56094063, 14.87388433, 13.83934611, 14.4748686 , 14.53030879,\n",
       "       14.3714336 , 13.46389474, 13.79918665, 15.07531493, 13.71441691,\n",
       "       13.40510555, 13.92018795, 14.2631846 , 14.31640992, 15.08601841,\n",
       "       14.60108391, 13.57458171, 12.43824714, 14.42696171, 13.13456879,\n",
       "       17.12818249, 15.3217123 , 16.73188083, 14.75903342, 14.81838089,\n",
       "       14.28953274, 14.41020526, 14.57675052, 14.7051932 , 13.73835095,\n",
       "       14.02599231, 14.76439608, 12.98321718, 12.4140741 , 13.85853718,\n",
       "       14.12396613, 14.31801793, 14.69961738, 13.94069892, 15.18003408,\n",
       "       12.87140247, 15.31306468, 14.81093107, 13.60186141, 14.36933852,\n",
       "       13.79789311, 13.37078335, 14.06289279, 14.02087535, 14.12847067,\n",
       "       15.34317374, 14.57200314, 14.81683282, 13.40034277, 14.83387773,\n",
       "       14.35661217, 15.19167204, 14.51034009, 14.96691419, 14.73471442,\n",
       "       13.81129132, 13.20312887, 14.62810163, 14.4774071 , 14.49481282,\n",
       "       14.65369934, 14.91005469, 12.59705147, 12.80745275, 15.01550484,\n",
       "       14.89979719, 14.72875092, 12.72261903, 13.12959311, 13.33951652,\n",
       "       14.86498889, 13.29356642, 14.60834667, 14.10691148, 14.84813314,\n",
       "       14.70162111, 14.53276707, 14.93440394, 14.60546613, 14.64952917,\n",
       "       14.7094197 , 13.23494038, 14.58070828, 14.6077531 , 14.49748331,\n",
       "       14.42955993, 14.88603811, 14.8200895 , 15.47559079, 14.12326318,\n",
       "       15.53232557, 14.04065624, 14.66877849, 12.94194329, 14.51885744,\n",
       "       15.21554074, 14.6923671 , 14.73567564, 13.13002696, 15.0483945 ,\n",
       "       13.74720943, 14.87357629, 14.69685885, 14.62503093, 13.9218533 ,\n",
       "       14.71425228, 14.35131759, 14.38626077, 14.62051651, 13.7667623 ,\n",
       "       15.00882383, 15.15191461, 14.32076625, 14.74456698, 14.61051632,\n",
       "       14.04315192, 13.14909178, 15.11941745, 14.09729481, 13.11055278,\n",
       "       14.96710596, 14.86916601, 14.49449423, 14.61337603, 12.68050181,\n",
       "       12.63396128, 14.4710702 , 14.90737175, 13.71192948, 17.06204639,\n",
       "       14.88301918, 14.75343687, 13.99033036, 14.69716285, 14.74423076,\n",
       "       14.87479585, 13.94271992, 14.80840179, 14.72163404, 14.72830545,\n",
       "       13.96024498, 14.00368437, 15.04072344, 13.63076908, 14.79458534,\n",
       "       14.84440264, 12.64215406, 14.59019453, 14.39614247, 13.55607958,\n",
       "       14.67739766, 14.37632474, 14.51291689, 12.22679499, 14.72896419,\n",
       "       13.73358823, 13.21403875, 13.1827916 , 15.1422054 , 14.51907566,\n",
       "       13.69750715, 14.95867764, 14.84607501, 14.22164353, 14.08771997,\n",
       "       13.46640976, 14.52473294, 13.73733093, 14.3878192 , 15.05054733,\n",
       "       14.82134381, 14.71504799, 15.97314155, 14.79064104, 14.47443097,\n",
       "       12.26495499, 14.62239171, 14.17590727, 14.44797452, 14.39031587,\n",
       "       14.53673809, 15.02013145, 15.0406202 , 15.02053039, 14.70214112,\n",
       "       15.12623941, 15.67745554, 14.65006311, 14.60680666, 12.90298456,\n",
       "       13.74863834, 14.48049357, 14.34014464, 14.75623195, 15.31997906,\n",
       "       14.81814283, 14.8008699 , 14.33210533, 14.98090312, 14.94051101,\n",
       "       13.25733067, 14.87136575, 15.30898101, 12.10870347, 13.47626451,\n",
       "       13.97142936, 12.68360899, 14.02154153, 14.07095328, 15.5674956 ,\n",
       "       14.5168325 , 14.60914088, 13.87590959, 14.93294727, 14.98995088,\n",
       "       14.50251922, 13.41596584, 14.70996091, 14.09406215, 13.99588152,\n",
       "       14.551258  , 15.33526186, 13.15578109, 14.69220448, 14.68205803,\n",
       "       14.67548429, 14.47395733, 14.90928471, 14.23762066, 13.53751869,\n",
       "       14.01271139, 15.06568738, 12.9425786 , 14.87749841, 15.12952421,\n",
       "       15.20993003, 14.89475278, 12.24558541, 14.71592461, 14.95240587,\n",
       "       15.28443   , 15.04980503, 12.52778546, 14.83401461, 14.32920312,\n",
       "       13.57937522, 14.71988472, 14.59948351, 14.79606087, 13.7263717 ,\n",
       "       14.9257654 , 15.01821255, 12.66445205, 14.19959528, 14.81049637,\n",
       "       13.55402252, 13.10966992, 14.52555941, 14.22462873, 14.47493141,\n",
       "       13.39686378, 14.90243149, 14.10972284, 14.13651354, 13.44961526,\n",
       "       14.21854971, 15.42187475, 13.34616878, 14.29439884, 15.12497829,\n",
       "       13.45895939, 13.88047007, 14.28671725, 13.72239624, 13.90645382,\n",
       "       14.79365743, 15.46084413, 14.274479  , 14.33593444, 12.48638115,\n",
       "       14.71789863, 14.55086847, 14.43211176, 13.79503734, 14.51081065,\n",
       "       15.21299539, 14.99614971, 15.07794249, 14.73842248, 13.85386993,\n",
       "       15.16696708, 14.39184006, 14.34229995, 12.83635645, 13.9212514 ,\n",
       "       14.388384  , 14.6155326 , 13.2424918 , 15.04839718, 14.79700198,\n",
       "       15.0897146 , 14.68928319, 14.81162305, 15.07356659, 15.06098154,\n",
       "       15.17722825, 14.70432827, 14.57158172, 15.23085864, 14.86173078,\n",
       "       14.65101716, 14.87598581, 15.23465533, 14.00990143, 12.56706156,\n",
       "       14.98292992, 13.63606506, 14.84490444, 13.04145829, 14.98564912,\n",
       "       10.96182653, 13.23354087, 12.20924619, 14.36728626, 14.77710108,\n",
       "       15.01389266, 14.1190418 , 14.43672558, 13.66571244, 14.88236997,\n",
       "       15.09278411, 15.04555324, 15.12713414, 13.16974111, 14.69745771,\n",
       "       14.3959072 , 15.19338519, 14.63452635, 15.3575507 , 14.22144024,\n",
       "       14.11665322, 13.70624239, 14.77347811, 14.20285639, 14.75515791,\n",
       "       14.84653244, 14.0296643 , 14.35361912, 13.72017561, 14.68572658,\n",
       "       14.65593085, 15.04222687, 14.83466954, 14.37588967, 14.7877898 ,\n",
       "       15.26299642, 15.06512174, 13.22779608, 14.63021926, 14.80502766,\n",
       "       14.49054632, 14.49248374, 15.17453773, 14.62954996, 13.63529632,\n",
       "       14.5393733 , 11.96019257, 14.19662285, 15.61976057, 13.5252236 ,\n",
       "       13.83059351, 14.6130931 ])"
      ]
     },
     "execution_count": 48,
     "metadata": {},
     "output_type": "execute_result"
    }
   ],
   "source": [
    "predictions_pca_2"
   ]
  },
  {
   "cell_type": "code",
   "execution_count": 49,
   "id": "6e5ff2b0-1c76-4fa8-b4ac-5878a3b23f2c",
   "metadata": {},
   "outputs": [
    {
     "name": "stdout",
     "output_type": "stream",
     "text": [
      "RMSE for test set is 1.495356704539613\n"
     ]
    }
   ],
   "source": [
    "RMSE_test = np.sqrt(metrics.mean_squared_error(y_test, predictions_pca_2))\n",
    "print('RMSE for test set is {}'.format(RMSE_test))"
   ]
  },
  {
   "cell_type": "markdown",
   "id": "5faa86ba-a08d-4b29-9e1f-9c5525997010",
   "metadata": {},
   "source": [
    "Thus after using 300 PC's we have RMSE =1.49 [RMSE WITH 602 PC's was 1.51 and without PCA was 1.39]\n",
    "Training time for :\n",
    "*300 PC's-1.42 min\n",
    "*602 PC's-3.18 min  #Here, after PCA the model might have grown out deeper trees, which is why it takes longer than without PCA\n",
    "*before PCA-3.12 min\n",
    "\n",
    "Thus, here we are at an accuracy-time trade-off , you need to decide what is more important for you. "
   ]
  },
  {
   "cell_type": "markdown",
   "id": "3cacb886-323e-4701-8bd5-ba506daade33",
   "metadata": {},
   "source": [
    "#We can now use exponents to get back the same order of target variables as before(when we had not used log transform)"
   ]
  },
  {
   "cell_type": "code",
   "execution_count": 50,
   "id": "e1caefc0-fe01-4330-87cf-5aa14bc4f91b",
   "metadata": {},
   "outputs": [],
   "source": [
    "predictions_pca_exp = np.expm1(predictions_pca_2)"
   ]
  },
  {
   "cell_type": "code",
   "execution_count": 51,
   "id": "c963e66a-aa70-45e8-9240-082036e561f5",
   "metadata": {},
   "outputs": [
    {
     "name": "stdout",
     "output_type": "stream",
     "text": [
      "892\n"
     ]
    }
   ],
   "source": [
    "print(len(predictions_pca_exp))"
   ]
  },
  {
   "cell_type": "code",
   "execution_count": 52,
   "id": "8937f64d-ebcf-4e19-8fab-371ca066e432",
   "metadata": {},
   "outputs": [
    {
     "name": "stdout",
     "output_type": "stream",
     "text": [
      "[2601620.02007608 2150143.10439058 2302672.31008655 2791176.53881523\n",
      " 1256142.00654434  581116.72981029 1641726.27206678 4410620.33974141\n",
      " 1304635.17380901 3695594.4591764  3153237.91667764 2901279.44938343\n",
      " 2951302.20328679 3417534.48428829 2902699.48122681 2516165.78313259\n",
      " 3416259.62192301 4046539.21803963 1988327.63398634 3916367.61320967]\n"
     ]
    }
   ],
   "source": [
    "print(predictions_pca_exp[:20])"
   ]
  },
  {
   "cell_type": "code",
   "execution_count": null,
   "id": "d768ee0e-3265-4530-ab35-0ae6d18b38fb",
   "metadata": {},
   "outputs": [],
   "source": []
  }
 ],
 "metadata": {
  "kernelspec": {
   "display_name": "Python 3 (ipykernel)",
   "language": "python",
   "name": "python3"
  },
  "language_info": {
   "codemirror_mode": {
    "name": "ipython",
    "version": 3
   },
   "file_extension": ".py",
   "mimetype": "text/x-python",
   "name": "python",
   "nbconvert_exporter": "python",
   "pygments_lexer": "ipython3",
   "version": "3.11.7"
  }
 },
 "nbformat": 4,
 "nbformat_minor": 5
}
